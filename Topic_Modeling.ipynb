{
  "cells": [
    {
      "attachments": {},
      "cell_type": "markdown",
      "id": "bce2bb89",
      "metadata": {
        "id": "bce2bb89"
      },
      "source": [
        "This notebook holds Assignment 5.1 for Module 5 in ADS 509, Applied Text Mining. Work through this notebook, writing code and answering questions where required.\n"
      ]
    },
    {
      "cell_type": "code",
      "execution_count": 1,
      "id": "a85bce08",
      "metadata": {
        "colab": {
          "base_uri": "https://localhost:8080/",
          "height": 0
        },
        "id": "a85bce08",
        "outputId": "8211357f-2169-4782-e7d4-83071ceae12a"
      },
      "outputs": [
        {
          "name": "stderr",
          "output_type": "stream",
          "text": [
            "/usr/local/lib/python3.10/dist-packages/google/rpc/__init__.py:20: DeprecationWarning: Deprecated call to `pkg_resources.declare_namespace('google.rpc')`.\n",
            "Implementing implicit namespace packages (as specified in PEP 420) is preferred to `pkg_resources.declare_namespace`. See https://setuptools.pypa.io/en/latest/references/keywords.html#keyword-namespace-packages\n",
            "  pkg_resources.declare_namespace(__name__)\n",
            "/usr/local/lib/python3.10/dist-packages/pkg_resources/__init__.py:2349: DeprecationWarning: Deprecated call to `pkg_resources.declare_namespace('google')`.\n",
            "Implementing implicit namespace packages (as specified in PEP 420) is preferred to `pkg_resources.declare_namespace`. See https://setuptools.pypa.io/en/latest/references/keywords.html#keyword-namespace-packages\n",
            "  declare_namespace(parent)\n"
          ]
        }
      ],
      "source": [
        "#!pip install pyLDAvis==3.4.1 --user  #You need to restart the Kernel after installation.\n",
        "# You also need a Python version => 3.9.0\n",
        "from nltk.corpus import brown\n",
        "\n",
        "import numpy as np\n",
        "import pandas as pd\n",
        "from tqdm.auto import tqdm\n",
        "import nltk\n",
        "\n",
        "import pyLDAvis\n",
        "import pyLDAvis.lda_model\n",
        "import pyLDAvis.gensim_models as gensimvis\n",
        "import gensim\n",
        "\n",
        "import spacy\n",
        "from sklearn.feature_extraction.text import TfidfVectorizer, CountVectorizer\n",
        "from sklearn.decomposition import NMF, TruncatedSVD, LatentDirichletAllocation\n",
        "\n",
        "from spacy.lang.en.stop_words import STOP_WORDS as stopwords\n",
        "\n",
        "from collections import Counter, defaultdict\n",
        "\n",
        "\n",
        "nlp = spacy.load('en_core_web_sm')"
      ]
    },
    {
      "cell_type": "code",
      "execution_count": 2,
      "id": "a218df60",
      "metadata": {
        "colab": {
          "base_uri": "https://localhost:8080/",
          "height": 0
        },
        "id": "a218df60",
        "outputId": "11c9a96e-68b2-46d6-b492-38659be83a5c"
      },
      "outputs": [
        {
          "name": "stderr",
          "output_type": "stream",
          "text": [
            "/usr/local/lib/python3.10/dist-packages/ipykernel/ipkernel.py:283: DeprecationWarning: `should_run_async` will not call `transform_cell` automatically in the future. Please pass the result to `transformed_cell` argument and any exception that happen during thetransform in `preprocessing_exc_tuple` in IPython 7.17 and above.\n",
            "  and should_run_async(code)\n"
          ]
        }
      ],
      "source": [
        "# add any additional libaries you need here\n",
        "from sklearn.pipeline import make_pipeline\n",
        "from sklearn.preprocessing import Normalizer\n",
        "import matplotlib.pyplot as plt\n",
        "import gensim"
      ]
    },
    {
      "cell_type": "code",
      "execution_count": 3,
      "id": "494de237",
      "metadata": {
        "colab": {
          "base_uri": "https://localhost:8080/",
          "height": 0
        },
        "id": "494de237",
        "outputId": "33c7bdcf-08b9-4beb-9069-4ca12b5bf136"
      },
      "outputs": [
        {
          "name": "stderr",
          "output_type": "stream",
          "text": [
            "/usr/local/lib/python3.10/dist-packages/ipykernel/ipkernel.py:283: DeprecationWarning: `should_run_async` will not call `transform_cell` automatically in the future. Please pass the result to `transformed_cell` argument and any exception that happen during thetransform in `preprocessing_exc_tuple` in IPython 7.17 and above.\n",
            "  and should_run_async(code)\n"
          ]
        }
      ],
      "source": [
        "# Looks at the total sum of the words in each topic of the model results and sorts the words in descending order based on their values\n",
        "# This function comes from the BTAP repo.\n",
        "def display_topics(model, features, no_top_words=5):\n",
        "    for topic, words in enumerate(model.components_):\n",
        "        total = words.sum()\n",
        "        largest = words.argsort()[::-1] # invert sort order\n",
        "        print(\"\\nTopic %02d\" % topic)\n",
        "        for i in range(0, no_top_words):\n",
        "            print(\"  %s (%2.2f)\" % (features[largest[i]], abs(words[largest[i]]*100.0/total)))"
      ]
    },
    {
      "attachments": {},
      "cell_type": "markdown",
      "id": "a30a901c",
      "metadata": {
        "id": "a30a901c"
      },
      "source": [
        "## Getting to Know the Brown Corpus\n",
        "\n",
        "Let's spend a bit of time getting to know what's in the Brown corpus, our NLTK example of an \"overlapping\" corpus."
      ]
    },
    {
      "cell_type": "code",
      "execution_count": 4,
      "id": "457c59ed",
      "metadata": {
        "colab": {
          "base_uri": "https://localhost:8080/",
          "height": 0
        },
        "id": "457c59ed",
        "outputId": "93002c6a-a881-4f40-954a-78c678ca3839"
      },
      "outputs": [
        {
          "name": "stdout",
          "output_type": "stream",
          "text": [
            "For adventure we have 29 articles.\n",
            "For belles_lettres we have 75 articles.\n",
            "For editorial we have 27 articles.\n",
            "For fiction we have 29 articles.\n",
            "For government we have 30 articles.\n",
            "For hobbies we have 36 articles.\n",
            "For humor we have 9 articles.\n",
            "For learned we have 80 articles.\n",
            "For lore we have 48 articles.\n",
            "For mystery we have 24 articles.\n",
            "For news we have 44 articles.\n",
            "For religion we have 17 articles.\n",
            "For reviews we have 17 articles.\n",
            "For romance we have 29 articles.\n",
            "For science_fiction we have 6 articles.\n"
          ]
        },
        {
          "name": "stderr",
          "output_type": "stream",
          "text": [
            "/usr/local/lib/python3.10/dist-packages/ipykernel/ipkernel.py:283: DeprecationWarning: `should_run_async` will not call `transform_cell` automatically in the future. Please pass the result to `transformed_cell` argument and any exception that happen during thetransform in `preprocessing_exc_tuple` in IPython 7.17 and above.\n",
            "  and should_run_async(code)\n",
            "[nltk_data] Downloading package brown to /root/nltk_data...\n",
            "[nltk_data]   Package brown is already up-to-date!\n"
          ]
        }
      ],
      "source": [
        "# categories of articles in Brown corpus\n",
        "nltk.download('brown')\n",
        "\n",
        "for category in brown.categories() :\n",
        "    print(f\"For {category} we have {len(brown.fileids(categories=category))} articles.\")"
      ]
    },
    {
      "attachments": {},
      "cell_type": "markdown",
      "id": "23fb133c",
      "metadata": {
        "id": "23fb133c"
      },
      "source": [
        "Let's create a dataframe of the articles in of hobbies, editorial, government, news, and romance."
      ]
    },
    {
      "cell_type": "code",
      "execution_count": 5,
      "id": "18f50b9d",
      "metadata": {
        "colab": {
          "base_uri": "https://localhost:8080/",
          "height": 0
        },
        "id": "18f50b9d",
        "outputId": "97926562-7d11-4fa3-cce9-59dc44dbe6cb"
      },
      "outputs": [
        {
          "name": "stderr",
          "output_type": "stream",
          "text": [
            "/usr/local/lib/python3.10/dist-packages/ipykernel/ipkernel.py:283: DeprecationWarning: `should_run_async` will not call `transform_cell` automatically in the future. Please pass the result to `transformed_cell` argument and any exception that happen during thetransform in `preprocessing_exc_tuple` in IPython 7.17 and above.\n",
            "  and should_run_async(code)\n"
          ]
        },
        {
          "data": {
            "text/plain": [
              "(166, 3)"
            ]
          },
          "execution_count": 5,
          "metadata": {},
          "output_type": "execute_result"
        }
      ],
      "source": [
        "categories = ['editorial','government','news','romance','hobbies']\n",
        "\n",
        "category_list = []\n",
        "file_ids = []\n",
        "texts = []\n",
        "\n",
        "for category in categories :\n",
        "    for file_id in brown.fileids(categories=category) :\n",
        "\n",
        "        # build some lists for a dataframe\n",
        "        category_list.append(category)\n",
        "        file_ids.append(file_id)\n",
        "\n",
        "        text = brown.words(fileids=file_id)\n",
        "        texts.append(\" \".join(text))\n",
        "\n",
        "df = pd.DataFrame()\n",
        "df['category'] = category_list\n",
        "df['id'] = file_ids\n",
        "df['text'] = texts\n",
        "\n",
        "df.shape"
      ]
    },
    {
      "cell_type": "code",
      "execution_count": 6,
      "id": "586f47de",
      "metadata": {
        "colab": {
          "base_uri": "https://localhost:8080/",
          "height": 0
        },
        "id": "586f47de",
        "outputId": "fda89abe-7894-44a7-c44b-e4bc7c6a1339"
      },
      "outputs": [
        {
          "name": "stderr",
          "output_type": "stream",
          "text": [
            "/usr/local/lib/python3.10/dist-packages/ipykernel/ipkernel.py:283: DeprecationWarning: `should_run_async` will not call `transform_cell` automatically in the future. Please pass the result to `transformed_cell` argument and any exception that happen during thetransform in `preprocessing_exc_tuple` in IPython 7.17 and above.\n",
            "  and should_run_async(code)\n"
          ]
        }
      ],
      "source": [
        "# Let's add some helpful columns on the df\n",
        "df['char_len'] = df['text'].apply(len)\n",
        "df['word_len'] = df['text'].apply(lambda x: len(x.split()))\n"
      ]
    },
    {
      "cell_type": "code",
      "execution_count": 7,
      "id": "2128fd2d",
      "metadata": {
        "colab": {
          "base_uri": "https://localhost:8080/",
          "height": 684
        },
        "id": "2128fd2d",
        "outputId": "61fc6577-7cc2-43a5-d185-6454a23eabbd"
      },
      "outputs": [
        {
          "name": "stderr",
          "output_type": "stream",
          "text": [
            "/usr/local/lib/python3.10/dist-packages/ipykernel/ipkernel.py:283: DeprecationWarning: `should_run_async` will not call `transform_cell` automatically in the future. Please pass the result to `transformed_cell` argument and any exception that happen during thetransform in `preprocessing_exc_tuple` in IPython 7.17 and above.\n",
            "  and should_run_async(code)\n"
          ]
        },
        {
          "data": {
            "text/plain": [
              "<Axes: xlabel='category'>"
            ]
          },
          "execution_count": 7,
          "metadata": {},
          "output_type": "execute_result"
        },
        {
          "data": {
            "image/png": "[encoded data removed]",
            "text/plain": [
              "<Figure size 1000x600 with 1 Axes>"
            ]
          },
          "metadata": {},
          "output_type": "display_data"
        }
      ],
      "source": [
        "df.groupby('category').agg({'word_len': 'mean'}).plot.bar(figsize=(10,6))"
      ]
    },
    {
      "attachments": {},
      "cell_type": "markdown",
      "id": "554ffeb5",
      "metadata": {
        "id": "554ffeb5"
      },
      "source": [
        "Now do our TF-IDF and Count vectorizations."
      ]
    },
    {
      "cell_type": "code",
      "execution_count": 8,
      "id": "21a7d247",
      "metadata": {
        "colab": {
          "base_uri": "https://localhost:8080/",
          "height": 0
        },
        "id": "21a7d247",
        "outputId": "f90e9fde-5faf-4473-cd75-ae16df2fbaa4"
      },
      "outputs": [
        {
          "name": "stderr",
          "output_type": "stream",
          "text": [
            "/usr/local/lib/python3.10/dist-packages/ipykernel/ipkernel.py:283: DeprecationWarning: `should_run_async` will not call `transform_cell` automatically in the future. Please pass the result to `transformed_cell` argument and any exception that happen during thetransform in `preprocessing_exc_tuple` in IPython 7.17 and above.\n",
            "  and should_run_async(code)\n",
            "/usr/local/lib/python3.10/dist-packages/sklearn/feature_extraction/text.py:409: UserWarning: Your stop_words may be inconsistent with your preprocessing. Tokenizing the stop words generated tokens ['ll', 've'] not in stop_words.\n",
            "  warnings.warn(\n"
          ]
        },
        {
          "data": {
            "text/plain": [
              "(166, 4941)"
            ]
          },
          "execution_count": 8,
          "metadata": {},
          "output_type": "execute_result"
        }
      ],
      "source": [
        "count_text_vectorizer = CountVectorizer(stop_words=list(stopwords), min_df=5, max_df=0.7)\n",
        "count_text_vectors = count_text_vectorizer.fit_transform(df[\"text\"])\n",
        "count_text_vectors.shape"
      ]
    },
    {
      "cell_type": "code",
      "execution_count": 9,
      "id": "875deba9",
      "metadata": {
        "colab": {
          "base_uri": "https://localhost:8080/",
          "height": 0
        },
        "id": "875deba9",
        "outputId": "91bba06f-825c-4ff7-e2c5-1047dca1fd6c"
      },
      "outputs": [
        {
          "name": "stderr",
          "output_type": "stream",
          "text": [
            "/usr/local/lib/python3.10/dist-packages/ipykernel/ipkernel.py:283: DeprecationWarning: `should_run_async` will not call `transform_cell` automatically in the future. Please pass the result to `transformed_cell` argument and any exception that happen during thetransform in `preprocessing_exc_tuple` in IPython 7.17 and above.\n",
            "  and should_run_async(code)\n"
          ]
        },
        {
          "data": {
            "text/plain": [
              "(166, 4941)"
            ]
          },
          "execution_count": 9,
          "metadata": {},
          "output_type": "execute_result"
        }
      ],
      "source": [
        "tfidf_text_vectorizer = TfidfVectorizer(stop_words=list(stopwords), min_df=5, max_df=0.7)\n",
        "tfidf_text_vectors = tfidf_text_vectorizer.fit_transform(df['text'])\n",
        "tfidf_text_vectors.shape"
      ]
    },
    {
      "attachments": {},
      "cell_type": "markdown",
      "id": "a1062b21",
      "metadata": {
        "id": "a1062b21"
      },
      "source": [
        "Q: What do the two data frames `count_text_vectors` and `tfidf_text_vectors` hold?\n",
        "\n",
        "A: count_text_vectors holds the count-based vector representations of the text data. Each row in the dataframe represents a unique word in the corpus, and the shape indicates the number of documents (rows) and words (columns). tfidf_text_vectors on the other hand holds the TF-IDF weighted vector representations of the text data. The values in this df represent each document (rows) and each column represents a unique word in across all documents."
      ]
    },
    {
      "attachments": {},
      "cell_type": "markdown",
      "id": "f77c3f94",
      "metadata": {
        "id": "f77c3f94"
      },
      "source": [
        "## Fitting a Non-Negative Matrix Factorization Model\n",
        "\n",
        "In this section the code to fit a five-topic NMF model has already been written. This code comes directly from the [BTAP repo](https://github.com/blueprints-for-text-analytics-python/blueprints-text), which will help you tremendously in the coming sections."
      ]
    },
    {
      "cell_type": "code",
      "execution_count": 10,
      "id": "d28745a3",
      "metadata": {
        "colab": {
          "base_uri": "https://localhost:8080/",
          "height": 0
        },
        "id": "d28745a3",
        "outputId": "4a5ebd5f-dafa-431b-9a94-aa1fbe7b2f26"
      },
      "outputs": [
        {
          "name": "stderr",
          "output_type": "stream",
          "text": [
            "/usr/local/lib/python3.10/dist-packages/ipykernel/ipkernel.py:283: DeprecationWarning: `should_run_async` will not call `transform_cell` automatically in the future. Please pass the result to `transformed_cell` argument and any exception that happen during thetransform in `preprocessing_exc_tuple` in IPython 7.17 and above.\n",
            "  and should_run_async(code)\n"
          ]
        }
      ],
      "source": [
        "nmf_text_model = NMF(n_components=5, random_state=314)\n",
        "W_text_matrix = nmf_text_model.fit_transform(tfidf_text_vectors)\n",
        "H_text_matrix = nmf_text_model.components_"
      ]
    },
    {
      "cell_type": "code",
      "execution_count": 11,
      "id": "a67185e7",
      "metadata": {
        "colab": {
          "base_uri": "https://localhost:8080/",
          "height": 0
        },
        "id": "a67185e7",
        "outputId": "6241dc40-7674-4265-9cfb-f6c79e0bf206"
      },
      "outputs": [
        {
          "name": "stdout",
          "output_type": "stream",
          "text": [
            "\n",
            "Topic 00\n",
            "  mr (0.51)\n",
            "  president (0.45)\n",
            "  kennedy (0.43)\n",
            "  united (0.42)\n",
            "  khrushchev (0.40)\n",
            "\n",
            "Topic 01\n",
            "  said (0.88)\n",
            "  didn (0.46)\n",
            "  ll (0.45)\n",
            "  thought (0.42)\n",
            "  man (0.37)\n",
            "\n",
            "Topic 02\n",
            "  state (0.39)\n",
            "  development (0.36)\n",
            "  tax (0.33)\n",
            "  sales (0.30)\n",
            "  program (0.25)\n",
            "\n",
            "Topic 03\n",
            "  mrs (2.61)\n",
            "  mr (0.78)\n",
            "  said (0.63)\n",
            "  miss (0.52)\n",
            "  car (0.51)\n",
            "\n",
            "Topic 04\n",
            "  game (1.02)\n",
            "  league (0.74)\n",
            "  ball (0.72)\n",
            "  baseball (0.71)\n",
            "  team (0.66)\n"
          ]
        },
        {
          "name": "stderr",
          "output_type": "stream",
          "text": [
            "/usr/local/lib/python3.10/dist-packages/ipykernel/ipkernel.py:283: DeprecationWarning: `should_run_async` will not call `transform_cell` automatically in the future. Please pass the result to `transformed_cell` argument and any exception that happen during thetransform in `preprocessing_exc_tuple` in IPython 7.17 and above.\n",
            "  and should_run_async(code)\n"
          ]
        }
      ],
      "source": [
        "display_topics(nmf_text_model, tfidf_text_vectorizer.get_feature_names_out())"
      ]
    },
    {
      "attachments": {},
      "cell_type": "markdown",
      "id": "fee51e9b",
      "metadata": {
        "id": "fee51e9b"
      },
      "source": [
        "Now some work for you to do. Compare the NMF factorization to the original categories from the Brown Corpus.\n",
        "\n",
        "We are interested in the extent to which our NMF factorization agrees or disagrees with the original categories in the corpus. For each topic in your NMF model, tally the Brown categories and interpret the results.\n"
      ]
    },
    {
      "cell_type": "code",
      "execution_count": 12,
      "id": "7c8c8eb0",
      "metadata": {
        "colab": {
          "base_uri": "https://localhost:8080/",
          "height": 0
        },
        "id": "7c8c8eb0",
        "outputId": "4177808a-c9ad-467e-826e-ce7b1a9b2af0"
      },
      "outputs": [
        {
          "name": "stderr",
          "output_type": "stream",
          "text": [
            "/usr/local/lib/python3.10/dist-packages/ipykernel/ipkernel.py:283: DeprecationWarning: `should_run_async` will not call `transform_cell` automatically in the future. Please pass the result to `transformed_cell` argument and any exception that happen during thetransform in `preprocessing_exc_tuple` in IPython 7.17 and above.\n",
            "  and should_run_async(code)\n"
          ]
        }
      ],
      "source": [
        "def tally_categories(nmf_model, categories):\n",
        "    topic_category_counts = []\n",
        "    for topic in nmf_model.components_:\n",
        "        category_count = defaultdict(int)\n",
        "        for i, category in enumerate(categories):\n",
        "            if topic[i] > 0:  # Considering topics where the weight is non-zero\n",
        "                category_count[category] += 1\n",
        "        topic_category_counts.append(category_count)\n",
        "    return topic_category_counts\n"
      ]
    },
    {
      "cell_type": "code",
      "execution_count": 13,
      "id": "d-eDgBilICJm",
      "metadata": {
        "colab": {
          "base_uri": "https://localhost:8080/",
          "height": 0
        },
        "id": "d-eDgBilICJm",
        "outputId": "5e5f7757-eddc-429a-b846-69864bc455e5"
      },
      "outputs": [
        {
          "name": "stderr",
          "output_type": "stream",
          "text": [
            "/usr/local/lib/python3.10/dist-packages/ipykernel/ipkernel.py:283: DeprecationWarning: `should_run_async` will not call `transform_cell` automatically in the future. Please pass the result to `transformed_cell` argument and any exception that happen during thetransform in `preprocessing_exc_tuple` in IPython 7.17 and above.\n",
            "  and should_run_async(code)\n"
          ]
        }
      ],
      "source": [
        "topic_category_counts = tally_categories(nmf_text_model, df['category'].unique())\n"
      ]
    },
    {
      "cell_type": "code",
      "execution_count": 14,
      "id": "HJ-rTYCXIF7W",
      "metadata": {
        "colab": {
          "base_uri": "https://localhost:8080/",
          "height": 0
        },
        "id": "HJ-rTYCXIF7W",
        "outputId": "f118d0ec-3330-4bc3-a218-54a5d0e37d1b"
      },
      "outputs": [
        {
          "name": "stdout",
          "output_type": "stream",
          "text": [
            "Topic 1:\n",
            "government: 1\n",
            "news: 1\n",
            "romance: 1\n",
            "hobbies: 1\n",
            "\n",
            "Topic 2:\n",
            "editorial: 1\n",
            "\n",
            "Topic 3:\n",
            "editorial: 1\n",
            "government: 1\n",
            "news: 1\n",
            "romance: 1\n",
            "hobbies: 1\n",
            "\n",
            "Topic 4:\n",
            "editorial: 1\n",
            "government: 1\n",
            "news: 1\n",
            "romance: 1\n",
            "hobbies: 1\n",
            "\n",
            "Topic 5:\n",
            "government: 1\n",
            "news: 1\n",
            "romance: 1\n",
            "hobbies: 1\n",
            "\n"
          ]
        },
        {
          "name": "stderr",
          "output_type": "stream",
          "text": [
            "/usr/local/lib/python3.10/dist-packages/ipykernel/ipkernel.py:283: DeprecationWarning: `should_run_async` will not call `transform_cell` automatically in the future. Please pass the result to `transformed_cell` argument and any exception that happen during thetransform in `preprocessing_exc_tuple` in IPython 7.17 and above.\n",
            "  and should_run_async(code)\n"
          ]
        }
      ],
      "source": [
        "for topic, category_count in enumerate(topic_category_counts):\n",
        "    print(f\"Topic {topic + 1}:\")\n",
        "    for category, count in category_count.items():\n",
        "        print(f\"{category}: {count}\")\n",
        "    print()\n"
      ]
    },
    {
      "attachments": {},
      "cell_type": "markdown",
      "id": "f8d4e2bc",
      "metadata": {
        "id": "f8d4e2bc"
      },
      "source": [
        "Q: How does your five-topic NMF model compare to the original Brown categories?\n",
        "\n",
        "A: Comparing the five topic NMF model with the original Brown Categories, it seems that the topics generated by the NMF model do not strongly align with the original Brown categories. The NMF topics seem to campture different themes that may not corespond to the original categories."
      ]
    },
    {
      "attachments": {},
      "cell_type": "markdown",
      "id": "82e37cb5",
      "metadata": {
        "id": "82e37cb5"
      },
      "source": [
        "## Fitting an LSA Model\n",
        "\n",
        "In this section, follow the example from the repository and fit an LSA model (called a \"TruncatedSVD\" in `sklearn`). Again fit a five-topic model and compare it to the actual categories in the Brown corpus. Use the TF-IDF vectors for your fit, as above.\n",
        "\n",
        "To be explicit, we are once again interested in the extent to which this LSA factorization agrees or disagrees with the original categories in the corpus. For each topic in your model, tally the Brown categories and interpret the results.\n"
      ]
    },
    {
      "cell_type": "code",
      "execution_count": 15,
      "id": "00b53d3d",
      "metadata": {
        "colab": {
          "base_uri": "https://localhost:8080/",
          "height": 0
        },
        "id": "00b53d3d",
        "outputId": "7b3d7c57-fc3c-45a4-f1be-1b579379f857"
      },
      "outputs": [
        {
          "name": "stdout",
          "output_type": "stream",
          "text": [
            "Topic 1:\n",
            "editorial: 1\n",
            "government: 1\n",
            "news: 1\n",
            "romance: 1\n",
            "hobbies: 1\n",
            "\n",
            "Topic 2:\n",
            "\n",
            "Topic 3:\n",
            "government: 1\n",
            "\n",
            "Topic 4:\n",
            "editorial: 1\n",
            "government: 1\n",
            "news: 1\n",
            "romance: 1\n",
            "hobbies: 1\n",
            "\n",
            "Topic 5:\n",
            "news: 1\n",
            "romance: 1\n",
            "hobbies: 1\n",
            "\n"
          ]
        },
        {
          "name": "stderr",
          "output_type": "stream",
          "text": [
            "/usr/local/lib/python3.10/dist-packages/ipykernel/ipkernel.py:283: DeprecationWarning: `should_run_async` will not call `transform_cell` automatically in the future. Please pass the result to `transformed_cell` argument and any exception that happen during thetransform in `preprocessing_exc_tuple` in IPython 7.17 and above.\n",
            "  and should_run_async(code)\n"
          ]
        }
      ],
      "source": [
        "lsa_model = make_pipeline(TruncatedSVD(n_components=5, random_state=314), Normalizer(copy=False))\n",
        "lsa_text_matrix = lsa_model.fit_transform(tfidf_text_vectors)\n",
        "\n",
        "# Define function to tally categories for each topic\n",
        "def tally_categories_lsa(lsa_model, categories):\n",
        "    topic_category_counts = []\n",
        "    for topic in lsa_model.components_:\n",
        "        category_count = defaultdict(int)\n",
        "        for i, category in enumerate(categories):\n",
        "            if topic[i] > 0:  # Considering topics where the weight is non-zero\n",
        "                category_count[category] += 1\n",
        "        topic_category_counts.append(category_count)\n",
        "    return topic_category_counts\n",
        "\n",
        "lsa_topic_category_counts = tally_categories_lsa(lsa_model.named_steps['truncatedsvd'], df['category'].unique())\n",
        "# Print topic and category tallies\n",
        "for topic, category_count in enumerate(lsa_topic_category_counts):\n",
        "    print(f\"Topic {topic + 1}:\")\n",
        "    for category, count in category_count.items():\n",
        "        print(f\"{category}: {count}\")\n",
        "    print()\n",
        "\n"
      ]
    },
    {
      "attachments": {},
      "cell_type": "markdown",
      "id": "4d94d56f",
      "metadata": {
        "id": "4d94d56f"
      },
      "source": [
        "Q: How does your five-topic LSA model compare to the original Brown categories?\n",
        "\n",
        "A: Overall, the five topic LSA model captures some associations between topics and categories in the Brown Corpus, but also includes topics that do not strongly align with any specific category."
      ]
    },
    {
      "cell_type": "code",
      "execution_count": 16,
      "id": "dn92kiPqJwUm",
      "metadata": {
        "colab": {
          "base_uri": "https://localhost:8080/",
          "height": 0
        },
        "id": "dn92kiPqJwUm",
        "outputId": "9b90aaa0-2421-47b7-ecf5-570b3a7066ca"
      },
      "outputs": [
        {
          "name": "stdout",
          "output_type": "stream",
          "text": [
            "\n",
            "Topic 00\n",
            "  said (0.44)\n",
            "  mr (0.25)\n",
            "  mrs (0.22)\n",
            "  state (0.20)\n",
            "  man (0.17)\n",
            "\n",
            "Topic 01\n",
            "  said (3.89)\n",
            "  ll (2.73)\n",
            "  didn (2.63)\n",
            "  thought (2.20)\n",
            "  got (1.97)\n",
            "\n",
            "Topic 02\n",
            "  mrs (3.12)\n",
            "  mr (1.70)\n",
            "  said (1.06)\n",
            "  kennedy (0.82)\n",
            "  khrushchev (0.77)\n",
            "\n",
            "Topic 03\n",
            "  mrs (29.45)\n",
            "  club (6.53)\n",
            "  game (6.12)\n",
            "  jr (5.60)\n",
            "  university (5.20)\n",
            "\n",
            "Topic 04\n",
            "  game (4.54)\n",
            "  league (3.27)\n",
            "  baseball (3.22)\n",
            "  ball (3.10)\n",
            "  team (2.94)\n"
          ]
        },
        {
          "name": "stderr",
          "output_type": "stream",
          "text": [
            "/usr/local/lib/python3.10/dist-packages/ipykernel/ipkernel.py:283: DeprecationWarning: `should_run_async` will not call `transform_cell` automatically in the future. Please pass the result to `transformed_cell` argument and any exception that happen during thetransform in `preprocessing_exc_tuple` in IPython 7.17 and above.\n",
            "  and should_run_async(code)\n"
          ]
        }
      ],
      "source": [
        "display_topics(lsa_model.named_steps['truncatedsvd'], tfidf_text_vectorizer.get_feature_names_out())"
      ]
    },
    {
      "attachments": {},
      "cell_type": "markdown",
      "id": "ea8b280a",
      "metadata": {
        "id": "ea8b280a"
      },
      "source": [
        "Q: What is your interpretation of the display topics output?\n",
        "\n",
        "A: Topic 00 seems to be associated with general conversations among individuals as 'said' has a higher weight than other terms. Topic 01 seems to be associated with thoughts, ideas or opinions. Topic 02 is similar to topic 00 in that it seems to revolve around conversations due to the weight and presence of the word \"said.\" Topic 03 likely relates to recreational activities. Finally, topic 4 seems to focused on a baseball game or team."
      ]
    },
    {
      "attachments": {},
      "cell_type": "markdown",
      "id": "b4ab4d29",
      "metadata": {
        "id": "b4ab4d29"
      },
      "source": [
        "## Fitting an LDA Model\n",
        "\n",
        "Finally, fit a five-topic LDA model using the count vectors (`count_text_vectors` from above). Display the results using `pyLDAvis.display` and describe what you learn from that visualization."
      ]
    },
    {
      "cell_type": "code",
      "execution_count": 20,
      "id": "802cb8ff",
      "metadata": {
        "colab": {
          "base_uri": "https://localhost:8080/",
          "height": 933
        },
        "id": "802cb8ff",
        "outputId": "4fe4a0b7-9e73-4018-ba4c-7ecf3af2c467"
      },
      "outputs": [
        {
          "name": "stderr",
          "output_type": "stream",
          "text": [
            "/usr/local/lib/python3.10/dist-packages/ipykernel/ipkernel.py:283: DeprecationWarning: `should_run_async` will not call `transform_cell` automatically in the future. Please pass the result to `transformed_cell` argument and any exception that happen during thetransform in `preprocessing_exc_tuple` in IPython 7.17 and above.\n",
            "  and should_run_async(code)\n",
            "WARNING:gensim.models.ldamodel:too few updates, training might not converge; consider increasing the number of passes or iterations to improve accuracy\n"
          ]
        },
        {
          "data": {
            "text/html": [
              "\n",
              "<link rel=\"stylesheet\" type=\"text/css\" href=\"https://cdn.jsdelivr.net/gh/bmabey/pyLDAvis@3.4.0/pyLDAvis/js/ldavis.v1.0.0.css\">\n",
              "\n",
              "\n",
              "<div id=\"ldavis_el27531406739341216009290786181\" style=\"background-color:white;\"></div>\n",
              "<script type=\"text/javascript\">\n",
              "\n",
              "var ldavis_el27531406739341216009290786181_data = {\"mdsDat\": {\"x\": [-0.009304446622687266, 0.0080261201879065, -0.0032378003060459697, 0.005626875974484758, -0.0011107492336580058], \"y\": [0.007354403379403769, 0.005856571281729699, -0.007025504454110269, -0.001216241304850037, -0.0049692289021731565], \"topics\": [1, 2, 3, 4, 5], \"cluster\": [1, 1, 1, 1, 1], \"Freq\": [27.281891461957862, 23.07365320366485, 20.64971280553566, 18.22807183129139, 10.766670697550232]}, \"tinfo\": {\"Term\": [\"mrs\", \"water\", \"mr\", \"said\", \"feed\", \"president\", \"small\", \"way\", \"site\", \"000\", \"man\", \"state\", \"provide\", \"high\", \"shelter\", \"system\", \"white\", \"school\", \"old\", \"rayburn\", \"big\", \"thought\", \"development\", \"come\", \"brown\", \"program\", \"work\", \"family\", \"city\", \"ll\", \"commodities\", \"india\", \"export\", \"import\", \"adjusted\", \"stations\", \"agreement\", \"agricultural\", \"recommendation\", \"thereof\", \"relating\", \"allocation\", \"authorized\", \"projects\", \"filing\", \"interference\", \"hearing\", \"bank\", \"puerto\", \"appeal\", \"article\", \"purchase\", \"child\", \"granted\", \"return\", \"rico\", \"states\", \"america\", \"structures\", \"categories\", \"affairs\", \"equivalent\", \"shall\", \"united\", \"government\", \"section\", \"class\", \"said\", \"development\", \"state\", \"countries\", \"department\", \"costs\", \"use\", \"good\", \"city\", \"interest\", \"day\", \"work\", \"little\", \"set\", \"sales\", \"man\", \"service\", \"american\", \"york\", \"way\", \"people\", \"right\", \"help\", \"home\", \"know\", \"000\", \"house\", \"mr\", \"program\", \"old\", \"board\", \"place\", \"rayburn\", \"arnold\", \"lawyers\", \"sam\", \"santa\", \"ireland\", \"nixon\", \"lesson\", \"bombs\", \"foundation\", \"viet\", \"remarks\", \"masters\", \"bars\", \"ashamed\", \"johnson\", \"judgments\", \"passengers\", \"wells\", \"china\", \"golf\", \"speaker\", \"pentagon\", \"elder\", \"thrown\", \"nam\", \"plot\", \"board\", \"struggle\", \"decent\", \"sides\", \"car\", \"soviet\", \"communist\", \"minister\", \"john\", \"fig\", \"old\", \"expected\", \"fiscal\", \"cent\", \"great\", \"force\", \"man\", \"30\", \"hour\", \"small\", \"mr\", \"night\", \"week\", \"president\", \"said\", \"city\", \"came\", \"took\", \"war\", \"church\", \"american\", \"business\", \"world\", \"day\", \"home\", \"good\", \"national\", \"place\", \"united\", \"000\", \"house\", \"government\", \"state\", \"states\", \"know\", \"people\", \"right\", \"mrs\", \"way\", \"gear\", \"inventory\", \"athletic\", \"machine\", \"precision\", \"cooling\", \"vocational\", \"virgin\", \"denver\", \"electronic\", \"brown\", \"manufacturers\", \"compared\", \"comprehensive\", \"quantity\", \"semi\", \"missile\", \"formed\", \"launched\", \"knee\", \"controls\", \"operated\", \"matching\", \"technology\", \"division\", \"completion\", \"machines\", \"publications\", \"arrangement\", \"roof\", \"water\", \"rhode\", \"provide\", \"industrial\", \"designed\", \"dallas\", \"signs\", \"association\", \"activities\", \"club\", \"program\", \"medical\", \"motors\", \"state\", \"1960\", \"texas\", \"high\", \"industry\", \"small\", \"said\", \"equipment\", \"world\", \"today\", \"company\", \"way\", \"people\", \"business\", \"public\", \"going\", \"week\", \"home\", \"mrs\", \"day\", \"use\", \"general\", \"act\", \"american\", \"mr\", \"house\", \"000\", \"development\", \"national\", \"president\", \"states\", \"little\", \"good\", \"government\", \"united\", \"feed\", \"cattle\", \"bargaining\", \"stockholders\", \"85\", \"anti\", \"clearer\", \"appearances\", \"qualifications\", \"chamber\", \"motors\", \"faculty\", \"music\", \"membership\", \"volume\", \"unions\", \"collective\", \"promoting\", \"chemical\", \"professors\", \"designers\", \"dimensions\", \"native\", \"shipping\", \"hiring\", \"jesus\", \"halfway\", \"suicide\", \"mathematics\", \"enthusiasm\", \"labor\", \"musical\", \"daily\", \"positions\", \"junior\", \"college\", \"formula\", \"president\", \"interior\", \"english\", \"union\", \"title\", \"mr\", \"work\", \"added\", \"fund\", \"general\", \"court\", \"come\", \"air\", \"public\", \"head\", \"000\", \"members\", \"men\", \"old\", \"west\", \"company\", \"high\", \"administration\", \"american\", \"good\", \"said\", \"mrs\", \"life\", \"day\", \"great\", \"state\", \"world\", \"people\", \"use\", \"states\", \"national\", \"man\", \"program\", \"little\", \"way\", \"right\", \"house\", \"government\", \"united\", \"site\", \"recreation\", \"mrs\", \"frames\", \"centers\", \"alfred\", \"edward\", \"entertain\", \"cloth\", \"shelter\", \"sink\", \"boats\", \"adjoining\", \"fish\", \"width\", \"sites\", \"va\", \"gate\", \"springs\", \"luncheon\", \"owns\", \"array\", \"protection\", \"features\", \"covered\", \"wayne\", \"richmond\", \"entrance\", \"wheeled\", \"blocks\", \"boat\", \"david\", \"educational\", \"strip\", \"inch\", \"daughter\", \"street\", \"white\", \"education\", \"system\", \"big\", \"water\", \"chairman\", \"thought\", \"built\", \"local\", \"way\", \"school\", \"wish\", \"ll\", \"000\", \"said\", \"got\", \"property\", \"small\", \"number\", \"tax\", \"place\", \"home\", \"man\", \"good\", \"city\", \"best\", \"mr\", \"state\", \"development\", \"high\", \"world\", \"today\", \"use\", \"come\", \"men\", \"little\", \"people\", \"president\", \"house\", \"service\", \"work\", \"old\", \"national\"], \"Freq\": [283.0, 155.0, 386.0, 794.0, 97.0, 295.0, 211.0, 268.0, 48.0, 278.0, 284.0, 489.0, 109.0, 214.0, 55.0, 140.0, 116.0, 168.0, 257.0, 51.0, 122.0, 138.0, 198.0, 182.0, 97.0, 228.0, 258.0, 125.0, 217.0, 162.0, 13.765376170053091, 29.596979808862525, 16.3134181192772, 16.965899334623725, 13.406373321946514, 36.2896268059144, 39.56628241324549, 14.636343589071213, 11.467107824659394, 6.881673513696773, 5.838830287722504, 6.764647412479511, 16.652692751604555, 28.035494152975435, 9.578793604640612, 18.807349267638198, 26.488214475356532, 20.28097601584404, 9.60953957014832, 16.52541304608962, 19.9017619170227, 17.390619679606008, 31.37089987416733, 13.24955325861135, 30.83488550852458, 9.379045791060655, 159.49634611064732, 41.75528588063826, 3.15794630753209, 2.6366122941183066, 16.79791403753262, 8.942635604708018, 57.126775977354505, 136.13584223245712, 113.46713940522699, 36.30063762686307, 42.98363976241514, 258.69571045035445, 75.8882963156576, 162.29948494624963, 36.478758738995026, 59.86944042274826, 34.537762036580325, 88.21989315020988, 99.08779910680829, 74.84914563441086, 51.01943270588427, 96.52746055306734, 82.14599014976896, 76.37441158873791, 58.03177756281448, 45.226755020496704, 81.741491943584, 65.20064949467634, 75.34944312994287, 51.93065435596502, 75.03198623542121, 73.99943967116202, 64.68377043922594, 50.83566958733309, 70.78525394262569, 58.722747160196995, 69.48136052367522, 63.25129074485293, 78.52032200499607, 61.10401436914591, 63.38801734673016, 55.953179252614724, 55.01995575715038, 33.131312966542836, 8.115935883591023, 4.852440160184029, 33.13353307465702, 8.423245894133302, 3.5695759681801436, 7.832466083786142, 3.0188091697234016, 8.535363865333833, 15.227977721471087, 6.7260163538030815, 8.351443144110224, 5.266904710173836, 12.70618437292648, 3.2838565509054933, 3.2568046339916092, 4.5498662965708485, 6.519536253446409, 3.153500960805476, 13.856632342808082, 11.016759952506721, 16.894841925612944, 3.4870832971299155, 2.7002265853457272, 3.7958315225063415, 5.423131005819297, 4.984970234004476, 71.13158756524835, 6.52655822435958, 3.0573500624136756, 18.673642440525175, 48.05993941346014, 31.206167813669826, 28.770036147965122, 8.79169342944427, 62.83698906717021, 11.961360703530264, 88.02324834047145, 27.457706131902846, 40.32782857873565, 27.24569920131623, 67.72998010480399, 29.71921440697069, 89.05826743131256, 40.03694083850854, 22.692265830584557, 66.59958677669586, 107.47066543037498, 47.636484765039654, 57.0252081282023, 82.4270288490784, 185.57122259471996, 62.2201070807295, 48.06489531090959, 38.20450110515443, 44.77443724508653, 30.82591318754348, 66.31056419517101, 55.970760579927614, 63.244872821577225, 72.41433455697472, 64.9150236563587, 69.3898842867508, 54.14827617300404, 49.69393228833679, 66.55442783547744, 62.21691253602222, 55.70828553555089, 61.88705737780915, 82.9194910209031, 63.70640081729516, 49.18351838257528, 55.31891607641279, 50.33993017229301, 52.27769612076533, 49.40425673383719, 9.402932130704341, 7.183572964855451, 5.51085958081113, 21.69367990168479, 9.365910370876875, 14.550932389354244, 5.6886839001183995, 6.03005164679828, 5.913903039572699, 10.375878813146914, 38.052159726019894, 15.619487588616048, 10.210327152905387, 2.858441909989442, 5.177187625226012, 4.246778319242492, 15.023012833114326, 9.22525165795959, 5.154872303413992, 6.012845125558221, 3.816224954600021, 5.471596212051076, 8.019960561412528, 6.900366803686973, 25.368531031159584, 4.055062692440717, 11.050074166057959, 6.962210336758268, 3.6078575897849854, 9.98771710539886, 54.254524074774544, 29.686843796422238, 37.98298451346521, 27.033537011496023, 19.150003676620017, 19.844553318127492, 12.745451250307902, 25.53411041183243, 19.42655918187453, 35.338032816378636, 69.8885836198541, 32.287358892904, 15.345328027668488, 136.53011878396813, 40.184334389367066, 19.75139468807616, 60.19549499172874, 29.27147485993525, 56.329966253224924, 167.0597056477279, 30.576307028544573, 64.38015931639437, 43.361988865905296, 38.81278139017604, 65.09226573053762, 63.465079408930116, 52.97103513987897, 50.85282857711306, 36.66878433747184, 47.92683066489833, 61.242709954080176, 64.02245487065716, 65.62890331283484, 55.619585997831905, 47.23454810515222, 35.573539607256, 53.09248359389236, 65.09703664152782, 49.124617016566475, 53.841864248548326, 44.58311132553875, 45.1176121870219, 50.93848321148632, 54.07359506715957, 45.7694918435205, 49.377685075284695, 45.522666126254926, 45.418458282120106, 45.06884808669131, 9.722857474958667, 5.049504323628712, 7.94108705850805, 3.5101359519543247, 21.29875999234599, 3.4280041026023316, 2.0446039078318927, 3.6750497481533833, 9.82570845393743, 15.936930446824842, 17.60824447107866, 21.057147257193733, 8.545522975299662, 14.873758490290799, 7.391668700935713, 4.1407040685631085, 2.57384427746143, 9.467940557397089, 3.138601265478917, 3.763135644044679, 3.4789332562117012, 5.079998393261498, 5.30965112012318, 1.8288454442442126, 5.406179355356636, 1.853081250808975, 1.8723579972854374, 2.7595615241729368, 3.3701285613637753, 22.26198888311168, 6.785293734443642, 17.453107268236316, 6.954670254850988, 20.09666160590878, 36.246372997046436, 11.561070638931591, 82.21038483290342, 12.402869518237274, 14.209034793589954, 19.6989831461613, 13.913746358646199, 98.04055379567485, 65.95741838387602, 23.37749269598861, 14.836538259342008, 50.10151005741361, 27.777109169413887, 43.941649132305876, 26.09382091805348, 45.39064568541174, 33.267693731334425, 57.45602135472711, 33.11055134476364, 42.38524562703351, 52.91158723218595, 26.682207428934195, 32.501509854263304, 44.23139289034354, 30.67257595575666, 49.78822523077514, 54.78573035222172, 101.17303171150284, 51.12963494715838, 34.78086674519492, 51.06146928183583, 40.169856213328096, 66.12910232051968, 44.827204929886186, 45.82217286336144, 44.46889605699694, 52.06626208650822, 40.379212737671956, 46.31659614728402, 40.85443599059053, 41.44765557623624, 43.592546116111855, 39.42107616706095, 40.47669694027991, 42.82889649499304, 42.39286955777938, 14.348361301433863, 9.010432617908192, 73.78458303090868, 5.118477787264893, 2.9447468288170606, 1.9555970714748143, 1.9391257638587036, 1.9297490796103252, 3.367100359598322, 12.708607979362656, 1.9065054184358852, 8.053990511809856, 1.5991295524181397, 2.1555025967678483, 1.5919655922126266, 2.666281885058386, 3.0125006382309336, 2.395005120569688, 2.3653945798516585, 3.2598003335850043, 1.9105697290200483, 1.1629572875247092, 9.420634037779488, 6.416005962704682, 8.131193076720391, 2.269612672141444, 1.7147246080104575, 4.323912001744773, 1.125906025195152, 4.073450155957832, 7.983001308824613, 5.935248157967922, 4.9608753503044705, 3.2013064100279807, 12.429291852677085, 6.883684691370613, 13.04223340495891, 19.530678589476114, 14.538785648934258, 23.071623003168632, 19.991083004941192, 23.957747008745425, 10.089191155932777, 21.412776464438025, 7.384839635947121, 19.441896186711098, 35.626068824615004, 23.981773883214235, 8.000671850761774, 23.23117038725756, 35.73882341363875, 82.40260742872535, 20.368425404415675, 14.48323180261417, 27.262282102861263, 19.205116549826162, 23.393383430957844, 24.449526831593843, 31.123694740064806, 32.64443011053776, 34.225450638762915, 25.87109372694735, 18.64606554101783, 37.2267177326982, 42.04346777415645, 23.680052778118814, 24.290938834961757, 26.36616421752233, 20.1286129156517, 25.3424353002612, 21.469341261384457, 21.959021056965785, 23.991902139721148, 24.98935102825815, 25.672466147934873, 23.32415284455676, 22.304634919471834, 23.507239596784636, 22.85566863668236, 21.704417751155457], \"Total\": [283.0, 155.0, 386.0, 794.0, 97.0, 295.0, 211.0, 268.0, 48.0, 278.0, 284.0, 489.0, 109.0, 214.0, 55.0, 140.0, 116.0, 168.0, 257.0, 51.0, 122.0, 138.0, 198.0, 182.0, 97.0, 228.0, 258.0, 125.0, 217.0, 162.0, 18.167666020287086, 39.14396792702848, 24.069464806832197, 25.809329259250987, 22.398792310135455, 60.69087273491641, 68.69884092868655, 25.677166952376023, 20.362540565336108, 12.591593127341117, 10.77293065129472, 12.518125438449331, 31.384001227192588, 54.30281031852195, 18.581443492677824, 37.085772237319794, 54.00458417952465, 41.96305923891583, 20.131134781132452, 34.82016159975458, 42.034943350612394, 36.910215359462335, 66.73948807906555, 28.44825791010737, 66.27437942325832, 20.168976085221164, 344.8960341548511, 90.4022665552473, 6.895461836790097, 5.758584839035207, 36.902240417084556, 19.581078369582457, 127.57420352055698, 310.70316333321284, 282.78688840673595, 83.8735332873366, 101.11926151970702, 794.9022778330306, 198.21618957962332, 489.921664845797, 87.09723539043921, 156.38070727976947, 82.90466879224047, 254.57409351116613, 306.86654945982843, 217.52092499839117, 134.89618822632158, 306.56879736178394, 258.27091901622197, 236.08685627460017, 167.97645302629422, 118.87323080187144, 284.1495450150006, 206.62834891186804, 265.3199078251525, 148.5765700338221, 268.7471236405229, 263.5949590481245, 214.78197177669549, 145.65146514576173, 264.75803412941724, 191.21529266075532, 278.73498207661163, 231.88504308180694, 386.3552956052719, 228.67289995392431, 257.9020405573357, 184.94320834482014, 190.2421512785524, 51.15766492934012, 16.95780799374985, 10.180701913030381, 71.55003558750533, 18.982119169726918, 8.117581945903549, 17.95940516528249, 7.074886921717597, 20.09128728885823, 35.915560021613196, 16.169797714465165, 20.175208235548812, 12.795673461304073, 31.003991877232984, 8.03677279529901, 7.98270165311507, 11.194699714757164, 16.124944934254657, 7.917362298257317, 34.92608905821993, 27.881820425282786, 43.2801476985084, 8.94402006761062, 6.957146110493449, 9.783805825124062, 14.006691670028903, 12.917307588245327, 184.94320834482014, 16.977878131070852, 7.974686960866802, 49.058474061281615, 128.19569425854175, 82.90636889245269, 76.69914377316874, 22.969744942628054, 173.3046161220347, 31.85842790102523, 257.9020405573357, 76.18531303756754, 114.85763714843186, 76.57335556758018, 206.50067409327215, 85.32130561525499, 284.1495450150006, 118.65473736126293, 63.880485319870864, 211.7216139667542, 386.3552956052719, 152.0233498428582, 189.4277452076334, 295.7083704477849, 794.9022778330306, 217.52092499839117, 161.537202640322, 122.48991153207727, 149.63390855635518, 95.6852049647906, 265.3199078251525, 212.07135330386623, 253.80089016060413, 306.56879736178394, 264.75803412941724, 306.86654945982843, 215.39371236178982, 190.2421512785524, 310.70316333321284, 278.73498207661163, 231.88504308180694, 282.78688840673595, 489.921664845797, 344.8960341548511, 191.21529266075532, 263.5949590481245, 214.78197177669549, 283.50364997136785, 268.7471236405229, 21.547407760366337, 16.86928414545377, 13.197255138527588, 52.360626034727325, 22.821454091879463, 36.04121244070787, 14.268145523916148, 15.157293883995507, 15.095816236761813, 26.55187712432665, 97.71445905847783, 40.31803056400253, 26.88005519936255, 7.580170191723365, 13.80130904125322, 11.421096181521465, 40.54011254507863, 24.897456957171414, 13.970662920773224, 16.323910020522074, 10.364574971912171, 14.987206303433942, 21.969355766010185, 18.928805605128012, 70.64357275391389, 11.326156839073699, 31.279122019915388, 19.7869508794462, 10.276876145030421, 28.47750371339903, 155.31767769913122, 85.08796190289075, 109.74421265429213, 77.98326849814788, 55.989705145163, 58.46869919467065, 36.7439769873448, 76.97657253993057, 57.60824224606936, 109.63270567309527, 228.67289995392431, 99.6180728676004, 44.87249051597848, 489.921664845797, 128.3256922511937, 59.46046986964947, 214.06381969233246, 96.50098620133564, 211.7216139667542, 794.9022778330306, 102.87217274512324, 253.80089016060413, 158.3282595760948, 138.41356102471056, 268.7471236405229, 263.5949590481245, 212.07135330386623, 201.14314760674685, 131.46309077821863, 189.4277452076334, 264.75803412941724, 283.50364997136785, 306.56879736178394, 254.57409351116613, 202.0416765068511, 130.87146172017657, 265.3199078251525, 386.3552956052719, 231.88504308180694, 278.73498207661163, 198.21618957962332, 215.39371236178982, 295.7083704477849, 344.8960341548511, 236.08685627460017, 306.86654945982843, 282.78688840673595, 310.70316333321284, 97.14644645362316, 21.033479468437534, 12.808753552981996, 20.72772146936421, 9.336198973984445, 58.479343803945056, 9.45744286356121, 5.681241225628374, 10.265871959899908, 27.569832342005707, 44.87249051597848, 49.96553475134006, 60.25523014857637, 24.59834994524202, 43.29679341967348, 21.558818791634025, 12.078090052301976, 7.518064127926515, 27.868472737384057, 9.244825676404515, 11.258751105963839, 10.491957219837785, 15.388898951222378, 16.177548979786508, 5.5779437688000515, 16.512766898572206, 5.663051334698582, 5.724775420833034, 8.440341829159461, 10.401268720570519, 68.7390328967748, 20.988646000824247, 54.646080420359496, 21.67186563088222, 64.11351003613123, 122.01328121420114, 36.89364311663095, 295.7083704477849, 40.182188101704384, 46.66010933162148, 66.90820059721854, 45.91367162195258, 386.3552956052719, 258.27091901622197, 82.6081091967364, 49.89977751696076, 202.0416765068511, 105.60024166683247, 182.07685190365845, 101.28163743204674, 201.14314760674685, 136.70099093069302, 278.73498207661163, 139.05540167733076, 191.38793204469025, 257.9020405573357, 106.51639189308166, 138.41356102471056, 214.06381969233246, 131.41583476284356, 265.3199078251525, 306.86654945982843, 794.9022778330306, 283.50364997136785, 160.78365928756025, 306.56879736178394, 206.50067409327215, 489.921664845797, 253.80089016060413, 263.5949590481245, 254.57409351116613, 344.8960341548511, 215.39371236178982, 284.1495450150006, 228.67289995392431, 236.08685627460017, 268.7471236405229, 214.78197177669549, 231.88504308180694, 282.78688840673595, 310.70316333321284, 48.13020749151876, 33.492538661263595, 283.50364997136785, 20.02540571198347, 11.983397084113772, 8.328460264281645, 8.273346476096952, 8.237746988143963, 14.569005714157576, 55.27413983507565, 8.314352146628703, 36.61554406094428, 7.29888208680474, 9.927366272775098, 7.366561675685052, 12.510618598763674, 14.17460490037219, 11.286634712025052, 11.17736768493011, 15.500905812751341, 9.124380573543984, 5.595550665779651, 45.542070491212236, 31.080424850438597, 39.47906092726097, 11.13615195073031, 8.419229180258146, 21.235659623029417, 5.542563620427626, 20.097689261964437, 39.85137318938291, 29.82067637185817, 24.92354710149195, 15.93281100961909, 65.7493887649977, 36.38025074999058, 73.20404220616568, 116.0469789527365, 83.705005171442, 140.35207520491338, 122.1386101281519, 155.31767769913122, 57.534081202846025, 138.14463194097718, 40.45726982215619, 128.04056720293536, 268.7471236405229, 168.33385653815014, 44.88984468821456, 162.37048234362155, 278.73498207661163, 794.9022778330306, 142.19941605730233, 93.4059864192007, 211.7216139667542, 135.34498477001407, 175.08293779543482, 190.2421512785524, 264.75803412941724, 284.1495450150006, 306.86654945982843, 217.52092499839117, 136.11170924407847, 386.3552956052719, 489.921664845797, 198.21618957962332, 214.06381969233246, 253.80089016060413, 158.3282595760948, 254.57409351116613, 182.07685190365845, 191.38793204469025, 236.08685627460017, 263.5949590481245, 295.7083704477849, 231.88504308180694, 206.62834891186804, 258.27091901622197, 257.9020405573357, 215.39371236178982], \"Category\": [\"Default\", \"Default\", \"Default\", \"Default\", \"Default\", \"Default\", \"Default\", \"Default\", \"Default\", \"Default\", \"Default\", \"Default\", \"Default\", \"Default\", \"Default\", \"Default\", \"Default\", \"Default\", \"Default\", \"Default\", \"Default\", \"Default\", \"Default\", \"Default\", \"Default\", \"Default\", \"Default\", \"Default\", \"Default\", \"Default\", \"Topic1\", \"Topic1\", \"Topic1\", \"Topic1\", \"Topic1\", \"Topic1\", \"Topic1\", \"Topic1\", \"Topic1\", \"Topic1\", \"Topic1\", \"Topic1\", \"Topic1\", \"Topic1\", \"Topic1\", \"Topic1\", \"Topic1\", \"Topic1\", \"Topic1\", \"Topic1\", \"Topic1\", \"Topic1\", \"Topic1\", \"Topic1\", \"Topic1\", \"Topic1\", \"Topic1\", \"Topic1\", \"Topic1\", \"Topic1\", \"Topic1\", \"Topic1\", \"Topic1\", \"Topic1\", \"Topic1\", \"Topic1\", \"Topic1\", \"Topic1\", \"Topic1\", \"Topic1\", \"Topic1\", \"Topic1\", \"Topic1\", \"Topic1\", \"Topic1\", \"Topic1\", \"Topic1\", \"Topic1\", \"Topic1\", \"Topic1\", \"Topic1\", \"Topic1\", \"Topic1\", \"Topic1\", \"Topic1\", \"Topic1\", \"Topic1\", \"Topic1\", \"Topic1\", \"Topic1\", \"Topic1\", \"Topic1\", \"Topic1\", \"Topic1\", \"Topic1\", \"Topic1\", \"Topic1\", \"Topic1\", \"Topic1\", \"Topic2\", \"Topic2\", \"Topic2\", \"Topic2\", \"Topic2\", \"Topic2\", \"Topic2\", \"Topic2\", \"Topic2\", \"Topic2\", \"Topic2\", \"Topic2\", \"Topic2\", \"Topic2\", \"Topic2\", \"Topic2\", \"Topic2\", \"Topic2\", \"Topic2\", \"Topic2\", \"Topic2\", \"Topic2\", \"Topic2\", \"Topic2\", \"Topic2\", \"Topic2\", \"Topic2\", \"Topic2\", \"Topic2\", \"Topic2\", \"Topic2\", \"Topic2\", \"Topic2\", \"Topic2\", \"Topic2\", \"Topic2\", \"Topic2\", \"Topic2\", \"Topic2\", \"Topic2\", \"Topic2\", \"Topic2\", \"Topic2\", \"Topic2\", \"Topic2\", \"Topic2\", \"Topic2\", \"Topic2\", \"Topic2\", \"Topic2\", \"Topic2\", \"Topic2\", \"Topic2\", \"Topic2\", \"Topic2\", \"Topic2\", \"Topic2\", \"Topic2\", \"Topic2\", \"Topic2\", \"Topic2\", \"Topic2\", \"Topic2\", \"Topic2\", \"Topic2\", \"Topic2\", \"Topic2\", \"Topic2\", \"Topic2\", \"Topic2\", \"Topic2\", \"Topic2\", \"Topic2\", \"Topic2\", \"Topic2\", \"Topic2\", \"Topic3\", \"Topic3\", \"Topic3\", \"Topic3\", \"Topic3\", \"Topic3\", \"Topic3\", \"Topic3\", \"Topic3\", \"Topic3\", \"Topic3\", \"Topic3\", \"Topic3\", \"Topic3\", \"Topic3\", \"Topic3\", \"Topic3\", \"Topic3\", \"Topic3\", \"Topic3\", \"Topic3\", \"Topic3\", \"Topic3\", \"Topic3\", \"Topic3\", \"Topic3\", \"Topic3\", \"Topic3\", \"Topic3\", \"Topic3\", \"Topic3\", \"Topic3\", \"Topic3\", \"Topic3\", \"Topic3\", \"Topic3\", \"Topic3\", \"Topic3\", \"Topic3\", \"Topic3\", \"Topic3\", \"Topic3\", \"Topic3\", \"Topic3\", \"Topic3\", \"Topic3\", \"Topic3\", \"Topic3\", \"Topic3\", \"Topic3\", \"Topic3\", \"Topic3\", \"Topic3\", \"Topic3\", \"Topic3\", \"Topic3\", \"Topic3\", \"Topic3\", \"Topic3\", \"Topic3\", \"Topic3\", \"Topic3\", \"Topic3\", \"Topic3\", \"Topic3\", \"Topic3\", \"Topic3\", \"Topic3\", \"Topic3\", \"Topic3\", \"Topic3\", \"Topic3\", \"Topic3\", \"Topic3\", \"Topic3\", \"Topic3\", \"Topic3\", \"Topic3\", \"Topic4\", \"Topic4\", \"Topic4\", \"Topic4\", \"Topic4\", \"Topic4\", \"Topic4\", \"Topic4\", \"Topic4\", \"Topic4\", \"Topic4\", \"Topic4\", \"Topic4\", \"Topic4\", \"Topic4\", \"Topic4\", \"Topic4\", \"Topic4\", \"Topic4\", \"Topic4\", \"Topic4\", \"Topic4\", \"Topic4\", \"Topic4\", \"Topic4\", \"Topic4\", \"Topic4\", \"Topic4\", \"Topic4\", \"Topic4\", \"Topic4\", \"Topic4\", \"Topic4\", \"Topic4\", \"Topic4\", \"Topic4\", \"Topic4\", \"Topic4\", \"Topic4\", \"Topic4\", \"Topic4\", \"Topic4\", \"Topic4\", \"Topic4\", \"Topic4\", \"Topic4\", \"Topic4\", \"Topic4\", \"Topic4\", \"Topic4\", \"Topic4\", \"Topic4\", \"Topic4\", \"Topic4\", \"Topic4\", \"Topic4\", \"Topic4\", \"Topic4\", \"Topic4\", \"Topic4\", \"Topic4\", \"Topic4\", \"Topic4\", \"Topic4\", \"Topic4\", \"Topic4\", \"Topic4\", \"Topic4\", \"Topic4\", \"Topic4\", \"Topic4\", \"Topic4\", \"Topic4\", \"Topic4\", \"Topic4\", \"Topic4\", \"Topic4\", \"Topic4\", \"Topic4\", \"Topic4\", \"Topic4\", \"Topic5\", \"Topic5\", \"Topic5\", \"Topic5\", \"Topic5\", \"Topic5\", \"Topic5\", \"Topic5\", \"Topic5\", \"Topic5\", \"Topic5\", \"Topic5\", \"Topic5\", \"Topic5\", \"Topic5\", \"Topic5\", \"Topic5\", \"Topic5\", \"Topic5\", \"Topic5\", \"Topic5\", \"Topic5\", \"Topic5\", \"Topic5\", \"Topic5\", \"Topic5\", \"Topic5\", \"Topic5\", \"Topic5\", \"Topic5\", \"Topic5\", \"Topic5\", \"Topic5\", \"Topic5\", \"Topic5\", \"Topic5\", \"Topic5\", \"Topic5\", \"Topic5\", \"Topic5\", \"Topic5\", \"Topic5\", \"Topic5\", \"Topic5\", \"Topic5\", \"Topic5\", \"Topic5\", \"Topic5\", \"Topic5\", \"Topic5\", \"Topic5\", \"Topic5\", \"Topic5\", \"Topic5\", \"Topic5\", \"Topic5\", \"Topic5\", \"Topic5\", \"Topic5\", \"Topic5\", \"Topic5\", \"Topic5\", \"Topic5\", \"Topic5\", \"Topic5\", \"Topic5\", \"Topic5\", \"Topic5\", \"Topic5\", \"Topic5\", \"Topic5\", \"Topic5\", \"Topic5\", \"Topic5\", \"Topic5\", \"Topic5\", \"Topic5\", \"Topic5\", \"Topic5\", \"Topic5\"], \"logprob\": [30.0, 29.0, 28.0, 27.0, 26.0, 25.0, 24.0, 23.0, 22.0, 21.0, 20.0, 19.0, 18.0, 17.0, 16.0, 15.0, 14.0, 13.0, 12.0, 11.0, 10.0, 9.0, 8.0, 7.0, 6.0, 5.0, 4.0, 3.0, 2.0, 1.0, -7.8123, -7.0467, -7.6424, -7.6032, -7.8387, -6.8429, -6.7564, -7.7509, -7.9949, -8.5056, -8.6699, -8.5227, -7.6218, -7.1009, -8.1749, -7.5002, -7.1577, -7.4247, -8.1717, -7.6295, -7.4436, -7.5785, -6.9885, -7.8505, -7.0058, -8.1959, -5.3624, -6.7026, -9.2845, -9.4649, -7.6132, -8.2436, -6.3891, -5.5208, -5.7029, -6.8426, -6.6736, -4.8788, -6.1052, -5.345, -6.8377, -6.3422, -6.8924, -5.9546, -5.8384, -6.1189, -6.5022, -5.8646, -6.0259, -6.0988, -6.3734, -6.6227, -6.0309, -6.2569, -6.1123, -6.4845, -6.1165, -6.1304, -6.2649, -6.5058, -6.1748, -6.3616, -6.1934, -6.2873, -6.0711, -6.3218, -6.2851, -6.4099, -6.4267, -6.7664, -8.1731, -8.6874, -6.7663, -8.1359, -8.9944, -8.2086, -9.162, -8.1227, -7.5437, -8.3609, -8.1444, -8.6054, -7.7248, -9.0779, -9.0861, -8.7518, -8.3921, -9.1184, -7.6381, -7.8675, -7.4399, -9.0178, -9.2735, -8.933, -8.5762, -8.6605, -6.0024, -8.391, -9.1493, -7.3398, -6.3944, -6.8263, -6.9075, -8.0931, -6.1263, -7.7852, -5.7893, -6.9542, -6.5698, -6.962, -6.0514, -6.8751, -5.7776, -6.5771, -7.1449, -6.0682, -5.5897, -6.4033, -6.2234, -5.855, -5.0434, -6.1362, -6.3943, -6.6239, -6.4652, -6.8385, -6.0725, -6.2421, -6.1199, -5.9845, -6.0938, -6.0271, -6.2752, -6.361, -6.0689, -6.1363, -6.2468, -6.1416, -5.849, -6.1126, -6.3713, -6.2538, -6.3481, -6.3103, -6.3668, -7.9149, -8.1841, -8.4492, -7.0789, -7.9188, -7.4782, -8.4174, -8.3591, -8.3786, -7.8164, -6.5169, -7.4074, -7.8325, -9.1056, -8.5116, -8.7097, -7.4463, -7.9339, -8.516, -8.362, -8.8166, -8.4563, -8.074, -8.2243, -6.9224, -8.7559, -7.7535, -8.2154, -8.8728, -7.8545, -6.1622, -6.7652, -6.5188, -6.8588, -7.2036, -7.168, -7.6107, -6.9159, -7.1893, -6.5909, -5.909, -6.6812, -7.4251, -5.2393, -6.4624, -7.1727, -6.0583, -6.7793, -6.1247, -5.0375, -6.7357, -5.9911, -6.3863, -6.4971, -5.9801, -6.0054, -6.1861, -6.227, -6.554, -6.2862, -6.041, -5.9967, -5.9719, -6.1374, -6.3008, -6.5843, -6.1839, -5.98, -6.2615, -6.1698, -6.3585, -6.3466, -6.2253, -6.1655, -6.3323, -6.2564, -6.3377, -6.34, -6.223, -7.7567, -8.4119, -7.9591, -8.7755, -6.9725, -8.7992, -9.3159, -8.7296, -7.7462, -7.2625, -7.1628, -6.9839, -7.8857, -7.3316, -8.0308, -8.6103, -9.0858, -7.7832, -8.8874, -8.7059, -8.7844, -8.4058, -8.3616, -9.4275, -8.3436, -9.4143, -9.404, -9.0161, -8.8162, -6.9283, -8.1164, -7.1716, -8.0917, -7.0306, -6.4408, -7.5835, -5.6219, -7.5132, -7.3773, -7.0506, -7.3983, -5.4458, -5.8421, -6.8794, -7.3341, -6.1171, -6.7069, -6.2483, -6.7695, -6.2158, -6.5266, -5.9801, -6.5313, -6.2844, -6.0625, -6.7472, -6.5499, -6.2417, -6.6078, -6.1234, -6.0277, -5.4143, -6.0968, -6.4821, -6.0981, -6.338, -5.8395, -6.2283, -6.2064, -6.2364, -6.0786, -6.3328, -6.1957, -6.3211, -6.3067, -6.2563, -6.3569, -6.3304, -6.2739, -6.2842, -6.841, -7.3063, -5.2035, -7.8718, -8.4246, -8.834, -8.8424, -8.8473, -8.2906, -6.9624, -8.8594, -7.4185, -9.0352, -8.7366, -9.0397, -8.524, -8.4019, -8.6313, -8.6437, -8.323, -8.8572, -9.3537, -7.2617, -7.6459, -7.4089, -8.685, -8.9654, -8.0405, -9.3861, -8.1002, -7.4273, -7.7237, -7.9031, -8.3411, -6.9846, -7.5755, -6.9365, -6.5327, -6.8278, -6.366, -6.5094, -6.3284, -7.1932, -6.4407, -7.5052, -6.5372, -5.9316, -6.3274, -7.4251, -6.3592, -5.9284, -5.093, -6.4907, -6.8317, -6.1991, -6.5495, -6.3522, -6.308, -6.0667, -6.019, -5.9717, -6.2515, -6.579, -5.8876, -5.7659, -6.34, -6.3145, -6.2326, -6.5025, -6.2722, -6.438, -6.4155, -6.3269, -6.2862, -6.2592, -6.3552, -6.3999, -6.3473, -6.3754, -6.4271], \"loglift\": [30.0, 29.0, 28.0, 27.0, 26.0, 25.0, 24.0, 23.0, 22.0, 21.0, 20.0, 19.0, 18.0, 17.0, 16.0, 15.0, 14.0, 13.0, 12.0, 11.0, 10.0, 9.0, 8.0, 7.0, 6.0, 5.0, 4.0, 3.0, 2.0, 1.0, 1.0215, 1.0194, 0.91, 0.8794, 0.7857, 0.7847, 0.7472, 0.7369, 0.7247, 0.6948, 0.6864, 0.6835, 0.6652, 0.6378, 0.6363, 0.62, 0.5866, 0.5718, 0.5594, 0.5536, 0.5513, 0.5464, 0.544, 0.5348, 0.5338, 0.5333, 0.5277, 0.5265, 0.518, 0.5178, 0.5119, 0.5152, 0.4955, 0.4738, 0.3858, 0.4615, 0.4435, 0.1764, 0.3389, 0.1941, 0.4287, 0.3388, 0.4233, 0.2392, 0.1685, 0.2321, 0.3266, 0.1433, 0.1534, 0.1704, 0.2361, 0.3326, 0.053, 0.1455, 0.0401, 0.2478, 0.0231, 0.0286, 0.0988, 0.2463, -0.0202, 0.1184, -0.0903, -0.0002, -0.2945, -0.0208, -0.1044, 0.1034, 0.0583, 1.032, 0.7296, 0.7255, 0.6966, 0.654, 0.6449, 0.6366, 0.6148, 0.6104, 0.6084, 0.5893, 0.5845, 0.5788, 0.5745, 0.5715, 0.5699, 0.5661, 0.5609, 0.5459, 0.542, 0.5379, 0.5258, 0.5246, 0.52, 0.5197, 0.5176, 0.5143, 0.511, 0.5104, 0.5078, 0.5006, 0.4854, 0.4894, 0.4859, 0.5061, 0.452, 0.4869, 0.3915, 0.446, 0.4198, 0.4331, 0.3517, 0.4118, 0.3063, 0.3801, 0.4315, 0.3099, 0.1869, 0.306, 0.266, 0.189, 0.0117, 0.2149, 0.2543, 0.3014, 0.2599, 0.3338, 0.0799, 0.1344, 0.0769, 0.0234, 0.0607, -0.0202, 0.0857, 0.1241, -0.0743, -0.0332, 0.0404, -0.0529, -0.3099, -0.2225, 0.1086, -0.0948, 0.0157, -0.2242, -0.2273, 0.7482, 0.7238, 0.7042, 0.6963, 0.6868, 0.6705, 0.6579, 0.6557, 0.6404, 0.6379, 0.6344, 0.6292, 0.6095, 0.6022, 0.597, 0.5882, 0.5848, 0.5846, 0.5805, 0.5787, 0.5783, 0.5698, 0.5698, 0.5684, 0.5533, 0.5503, 0.537, 0.5329, 0.5307, 0.5297, 0.5257, 0.5245, 0.5165, 0.5181, 0.5046, 0.4969, 0.5187, 0.474, 0.4904, 0.4453, 0.3921, 0.4508, 0.5045, 0.2998, 0.4164, 0.4754, 0.3088, 0.3845, 0.2534, 0.0176, 0.3642, 0.2057, 0.2824, 0.306, 0.1595, 0.1535, 0.1903, 0.2024, 0.3007, 0.2031, 0.1135, 0.0895, 0.036, 0.0564, 0.1241, 0.2749, -0.0314, -0.2034, 0.0256, -0.0667, 0.0855, 0.0143, -0.1813, -0.2754, -0.0631, -0.2494, -0.249, -0.3455, 0.9342, 0.9306, 0.7714, 0.7428, 0.724, 0.6922, 0.6874, 0.6802, 0.6749, 0.6705, 0.667, 0.6592, 0.6509, 0.6449, 0.6337, 0.6318, 0.6317, 0.6303, 0.6226, 0.6219, 0.6063, 0.5983, 0.5939, 0.5881, 0.5871, 0.5856, 0.5851, 0.5846, 0.5843, 0.5752, 0.5748, 0.573, 0.5608, 0.5656, 0.5421, 0.4884, 0.5418, 0.4221, 0.5267, 0.5132, 0.4795, 0.5083, 0.3308, 0.3372, 0.4399, 0.4893, 0.3078, 0.3668, 0.2806, 0.346, 0.2135, 0.289, 0.123, 0.2672, 0.1947, 0.1182, 0.3179, 0.2532, 0.1254, 0.2472, 0.029, -0.0208, -0.3592, -0.0107, 0.1712, -0.0902, 0.065, -0.3004, -0.0315, -0.0474, -0.0426, -0.1885, 0.0281, -0.1118, -0.0201, -0.0376, -0.1167, 0.0069, -0.0433, -0.1853, -0.2897, 1.0184, 0.9158, 0.8826, 0.8646, 0.8252, 0.7797, 0.7779, 0.7774, 0.7639, 0.7587, 0.756, 0.7144, 0.7105, 0.7014, 0.6967, 0.6828, 0.68, 0.6785, 0.6758, 0.6695, 0.6652, 0.6577, 0.653, 0.6509, 0.6487, 0.6381, 0.6374, 0.6372, 0.6348, 0.6326, 0.6209, 0.6144, 0.6145, 0.6239, 0.5629, 0.5638, 0.5037, 0.4467, 0.4782, 0.4232, 0.4188, 0.3595, 0.4878, 0.3644, 0.5279, 0.3438, 0.208, 0.2801, 0.504, 0.2843, 0.1747, -0.0379, 0.2855, 0.3648, 0.1789, 0.2761, 0.2159, 0.177, 0.0879, 0.0649, 0.0353, 0.0995, 0.2409, -0.111, -0.2268, 0.104, 0.0525, -0.0358, 0.1662, -0.0784, 0.0909, 0.0636, -0.0578, -0.1272, -0.2152, -0.068, 0.0026, -0.168, -0.1947, -0.0662]}, \"token.table\": {\"Topic\": [1, 2, 3, 4, 5, 1, 2, 3, 4, 5, 1, 2, 3, 4, 5, 1, 2, 3, 4, 5, 1, 2, 3, 4, 5, 1, 2, 3, 4, 5, 1, 2, 3, 4, 5, 1, 2, 3, 4, 5, 1, 2, 3, 4, 5, 1, 2, 3, 4, 5, 1, 2, 3, 4, 5, 1, 2, 3, 4, 5, 1, 2, 3, 4, 5, 1, 2, 3, 4, 5, 1, 2, 3, 4, 5, 1, 2, 3, 4, 5, 1, 2, 3, 4, 5, 1, 2, 3, 4, 5, 1, 2, 3, 4, 5, 1, 2, 3, 4, 5, 1, 2, 3, 4, 1, 2, 3, 4, 5, 1, 2, 3, 4, 5, 1, 2, 3, 4, 5, 1, 2, 3, 4, 5, 1, 2, 3, 4, 5, 1, 2, 3, 4, 5, 1, 2, 3, 4, 5, 1, 2, 3, 4, 5, 1, 2, 3, 4, 5, 1, 2, 3, 4, 5, 1, 2, 3, 4, 5, 1, 2, 3, 4, 5, 1, 2, 3, 4, 5, 1, 2, 3, 4, 5, 1, 2, 3, 4, 5, 1, 2, 3, 4, 5, 1, 2, 3, 4, 5, 1, 2, 3, 4, 5, 1, 2, 3, 4, 5, 1, 2, 3, 4, 5, 1, 2, 3, 4, 5, 1, 2, 3, 4, 5, 1, 2, 3, 4, 5, 1, 2, 3, 4, 5, 1, 2, 3, 4, 5, 1, 2, 3, 4, 5, 1, 2, 3, 4, 5, 1, 2, 3, 4, 5, 1, 2, 3, 4, 5, 1, 2, 3, 4, 5, 1, 2, 3, 4, 5, 1, 2, 3, 4, 5, 1, 2, 3, 4, 5, 1, 2, 3, 4, 5, 1, 2, 3, 4, 5, 1, 2, 3, 4, 5, 1, 2, 3, 4, 5, 1, 2, 3, 4, 5, 1, 2, 3, 4, 5, 1, 2, 3, 4, 5, 1, 2, 3, 4, 5, 1, 2, 3, 4, 5, 1, 2, 3, 4, 5, 1, 2, 3, 4, 5, 1, 2, 3, 4, 5, 1, 2, 3, 4, 5, 1, 2, 3, 4, 5, 1, 2, 3, 4, 5, 1, 2, 3, 4, 5, 1, 2, 3, 4, 5, 1, 2, 3, 4, 5, 1, 2, 3, 4, 5, 1, 2, 3, 4, 5, 1, 2, 3, 4, 5, 1, 2, 3, 4, 5, 1, 2, 3, 4, 5, 1, 2, 3, 4, 5, 1, 2, 3, 4, 5, 1, 2, 3, 4, 5, 1, 2, 3, 4, 5, 1, 2, 3, 4, 5, 1, 2, 3, 4, 5, 1, 2, 3, 4, 5, 1, 2, 3, 4, 5, 1, 2, 3, 4, 5, 1, 2, 3, 4, 5, 1, 2, 3, 4, 5, 1, 2, 3, 4, 5, 1, 2, 3, 4, 5, 1, 2, 3, 4, 5, 1, 2, 3, 4, 5, 1, 2, 3, 4, 5, 1, 2, 3, 4, 5, 1, 2, 3, 4, 5, 1, 2, 3, 4, 5, 1, 2, 3, 4, 5, 1, 2, 3, 4, 5, 1, 2, 3, 4, 5, 1, 2, 3, 4, 5, 1, 2, 3, 4, 5, 1, 2, 3, 4, 5, 1, 2, 3, 4, 5, 1, 2, 3, 4, 5, 1, 2, 3, 4, 5, 1, 2, 3, 4, 5, 1, 2, 3, 4, 5, 1, 2, 3, 4, 5, 1, 2, 3, 4, 5, 1, 2, 3, 4, 5, 1, 2, 3, 4, 5, 1, 2, 3, 4, 5, 1, 2, 3, 4, 5, 1, 2, 3, 4, 5, 1, 2, 3, 4, 5, 1, 2, 3, 4, 5, 1, 2, 3, 4, 5, 1, 2, 3, 4, 5, 1, 2, 3, 4, 5, 1, 2, 3, 4, 5, 1, 2, 3, 4, 5, 1, 2, 3, 4, 5, 1, 2, 3, 4, 5, 1, 2, 3, 4, 5, 1, 2, 3, 4, 5, 1, 2, 3, 4, 5, 1, 2, 3, 4, 5, 1, 2, 3, 4, 5, 1, 2, 3, 4, 5, 1, 2, 3, 4, 5, 1, 2, 3, 4, 5, 1, 2, 3, 4, 5, 1, 2, 3, 4, 5, 1, 2, 3, 4, 5, 1, 2, 3, 4, 5, 1, 2, 3, 4, 5, 1, 2, 3, 4, 5, 1, 2, 3, 4, 5, 1, 2, 3, 4, 5, 1, 2, 3, 4, 5, 1, 2, 3, 4, 5, 1, 2, 3, 4, 5, 1, 2, 3, 4, 1, 2, 3, 4, 5, 1, 2, 3, 4, 5, 1, 2, 3, 4, 5, 1, 2, 3, 4, 5, 1, 2, 3, 4, 5, 1, 2, 3, 4, 5, 1, 2, 3, 4, 5, 1, 2, 3, 4, 5, 1, 2, 3, 4, 5, 1, 2, 3, 4, 5, 1, 2, 3, 4, 5, 1, 2, 3, 4, 5, 1, 2, 3, 4, 5, 1, 2, 3, 4, 5, 1, 2, 3, 4, 5, 1, 2, 3, 4, 5, 1, 2, 3, 4, 5, 1, 2, 3, 4, 5, 1, 2, 3, 4, 5, 1, 2, 3, 4, 5, 1, 2, 3, 4, 5, 1, 2, 3, 4, 5, 1, 2, 3, 4, 5, 1, 2, 3, 4, 5, 1, 2, 3, 4, 5, 1, 2, 3, 4, 5, 1, 2, 3, 4, 5, 1, 2, 3, 4, 5, 1, 2, 3, 4, 5, 1, 2, 3, 4, 5, 1, 2, 3, 4, 5, 1, 2, 3, 4, 5, 1, 2, 3, 4, 5, 1, 2, 3, 4, 5, 1, 2, 3, 4, 5, 1, 2, 3, 4, 5, 1, 2, 3, 4, 5, 1, 2, 3, 4, 5, 1, 2, 3, 4, 5, 1, 2, 3, 4, 5, 1, 2, 3, 4, 5, 1, 2, 3, 4, 5, 1, 2, 3, 4, 5, 1, 2, 3, 4, 5, 1, 2, 3, 4, 5, 1, 2, 3, 4, 5, 1, 2, 3, 4, 5, 1, 2, 3, 4, 5, 1, 2, 3, 4, 5, 1, 2, 3, 4, 5, 1, 2, 3, 4, 5, 1, 2, 3, 4, 5, 1, 2, 3, 4, 5, 1, 2, 3, 4, 5, 1, 2, 3, 4, 5, 1, 2, 3, 4, 5, 1, 2, 3, 4, 5, 1, 2, 3, 4, 5, 1, 2, 3, 4, 5, 1, 2, 3, 4, 5, 1, 2, 3, 4, 5, 1, 2, 3, 4, 5, 1, 2, 3, 4, 5, 1, 2, 3, 4, 5, 1, 2, 3, 4, 5, 1, 2, 3, 4, 5, 1, 2, 3, 4, 5, 1, 2, 3, 4, 5, 1, 2, 3, 4, 5, 1, 2, 3, 4, 5, 1, 2, 3, 4, 5, 1, 2, 3, 4, 5, 1, 2, 3, 4, 5, 1, 2, 3, 4, 5, 1, 2, 3, 4, 5, 1, 2, 3, 4, 5, 1, 2, 3, 4, 5, 1, 2, 3, 4, 5, 1, 2, 3, 4, 5, 1, 2, 3, 4, 5, 1, 2, 3, 4, 5, 1, 2, 3, 4, 5, 1, 2, 3, 4, 5, 1, 2, 3, 4, 5, 1, 2, 3, 4, 5, 1, 2, 3, 4, 5, 1, 2, 3, 4, 5, 1, 2, 3, 4, 5, 1, 2, 3, 4, 5, 1, 2, 3, 4, 5, 1, 2, 3, 4, 5, 1, 2, 3, 4, 5, 1, 2, 3, 4, 5, 1, 2, 3, 4, 5, 1, 2, 3, 4, 5, 1, 2, 3, 4, 5, 1, 2, 3, 4, 5, 1, 2, 3, 4, 5, 1, 2, 3, 4, 5, 1, 2, 3, 4, 5, 1, 2, 3, 4, 5, 1, 2, 3, 4, 5, 1, 2, 3, 4, 1, 2, 3, 4, 5, 1, 2, 3, 4, 5, 1, 2, 3, 4, 5, 1, 2, 3, 4, 5, 1, 2, 3, 4, 5, 1, 2, 3, 4, 5, 1, 2, 3, 4, 5, 1, 2, 3, 4, 5, 1, 2, 3, 4, 5, 1, 2, 3, 4, 5, 1, 2, 3, 4, 5, 1, 2, 3, 4, 5, 1, 2, 3, 4, 5, 1, 2, 3, 4, 5, 1, 2, 3, 4, 5, 1, 2, 3, 4, 5, 1, 2, 3, 4, 5, 1, 2, 3, 4, 5, 1, 2, 3, 4, 5, 1, 2, 3, 4, 5, 1, 2, 3, 4, 5, 1, 2, 3, 4, 5, 1, 2, 3, 4, 5, 1, 2, 3, 4, 5, 1, 2, 3, 4, 5, 1, 2, 3, 4, 5, 1, 2, 3, 4, 5, 1, 2, 3, 4, 5, 1, 2, 3, 4, 5, 1, 2, 3, 4, 5, 1, 2, 3, 4, 5, 1, 2, 3, 4, 5, 1, 2, 3, 4, 5, 1, 2, 3, 4, 5, 1, 2, 3, 4, 5], \"Freq\": [0.24754696911719185, 0.2224335084821144, 0.19373241061345448, 0.20449532231420195, 0.12915494040896966, 0.26495084034649913, 0.17923145082263178, 0.31170687099588135, 0.1402680919481466, 0.10909740484855847, 0.22755096509795703, 0.3371125408858623, 0.1938397110093708, 0.1601284569207846, 0.08427813522146557, 0.2142199417100097, 0.2142199417100097, 0.2142199417100097, 0.4284398834200194, 0.10710997085500484, 0.35913100825979366, 0.13753953507821884, 0.2750790701564377, 0.13753953507821884, 0.0993341086676025, 0.2950966621648644, 0.12151039030317946, 0.32981391653720143, 0.13886901748934796, 0.10415176311701098, 0.2542123310193093, 0.19368558553852136, 0.1573695382500486, 0.2784230292116245, 0.10894814186541826, 0.1370072824998566, 0.1370072824998566, 0.2740145649997132, 0.1370072824998566, 0.2740145649997132, 0.5803884343406095, 0.08929052836009377, 0.13393579254014065, 0.08929052836009377, 0.08929052836009377, 0.26633015772537544, 0.1978452600245646, 0.1978452600245646, 0.23589242541390396, 0.10653206309015018, 0.46067663664479147, 0.2438876311648896, 0.10839450273995094, 0.13549312842493866, 0.05419725136997547, 0.5822514537257238, 0.16011914977457406, 0.10189400440200168, 0.11645029074514476, 0.04366885902942929, 0.5841765965778395, 0.1168353193155679, 0.15578042575409054, 0.07789021287704527, 0.07789021287704527, 0.19746916131187822, 0.19746916131187822, 0.2863302839022234, 0.25670990970544166, 0.06911420645915738, 0.12007021325282784, 0.24014042650565567, 0.24014042650565567, 0.12007021325282784, 0.24014042650565567, 0.5591891561095522, 0.07988416515850746, 0.15976833031701493, 0.07988416515850746, 0.07988416515850746, 0.4645901214692737, 0.143801704264299, 0.16592504338188346, 0.143801704264299, 0.07743168691154562, 0.28267761968855154, 0.24875630532592535, 0.1997588512465764, 0.18845174645903434, 0.07914973351279443, 0.23940077109852165, 0.2223007160200558, 0.10260033047079499, 0.35910115664778247, 0.06840022031386332, 0.48822289211086894, 0.20103295557506368, 0.14359496826790263, 0.1148759746143221, 0.05743798730716105, 0.1760178736098985, 0.1760178736098985, 0.1760178736098985, 0.352035747219797, 0.1179397715044976, 0.4717590860179904, 0.1769096572567464, 0.1179397715044976, 0.1179397715044976, 0.1946116671812901, 0.1946116671812901, 0.3892233343625802, 0.09730583359064505, 0.1946116671812901, 0.1787134206675378, 0.1787134206675378, 0.1787134206675378, 0.1787134206675378, 0.1787134206675378, 0.4757946224211725, 0.16652811784741037, 0.14273838672635175, 0.14273838672635175, 0.07136919336317588, 0.24885610815946796, 0.3732841622392019, 0.12442805407973398, 0.12442805407973398, 0.12442805407973398, 0.16888255180829756, 0.20785544837944314, 0.3377651036165951, 0.15589158628458236, 0.14290062076086715, 0.15154666474252457, 0.15154666474252457, 0.45463999422757373, 0.22731999711378686, 0.07577333237126228, 0.541677266609026, 0.12745347449624142, 0.12745347449624142, 0.15931684312030178, 0.06372673724812071, 0.47660967438361446, 0.16681338603426507, 0.1906438697534458, 0.07149145115754217, 0.0953219348767229, 0.15614321813025916, 0.15614321813025916, 0.15614321813025916, 0.39035804532564794, 0.15614321813025916, 0.19352346703477083, 0.41930084524200345, 0.16126955586230904, 0.12901564468984722, 0.09676173351738541, 0.27918244661712077, 0.19101956873803, 0.19836647522795423, 0.19836647522795423, 0.13959122330856039, 0.3029345099078692, 0.147373545360585, 0.22924773722757666, 0.15556096454728416, 0.16374838373398334, 0.14927089183718262, 0.19902785578291016, 0.29854178367436524, 0.19902785578291016, 0.19902785578291016, 0.30279565549436105, 0.38390163464463634, 0.11895543608707042, 0.13517663191712548, 0.05947771804353521, 0.20074590559231562, 0.10037295279615781, 0.3262120965875129, 0.17565266739327617, 0.20074590559231562, 0.19117563809372703, 0.08193241632588301, 0.32772966530353204, 0.19117563809372703, 0.21848644353568802, 0.19909127486411632, 0.4479553684442617, 0.19909127486411632, 0.14931845614808723, 0.09954563743205816, 0.10233899973815991, 0.2149118994501358, 0.38888819900500765, 0.2149118994501358, 0.08187119979052793, 0.24717436554563446, 0.14830461932738068, 0.222456928991071, 0.19773949243650757, 0.1730220558819441, 0.2169081268326182, 0.26406206744840477, 0.24991588526366879, 0.17918497433998895, 0.08959248716999448, 0.20428730633325162, 0.297145172848366, 0.21047783076759258, 0.17333468416154682, 0.1176199642524782, 0.24181779410999565, 0.37442755217031587, 0.1482109060674167, 0.1326097580603202, 0.1014074620461272, 0.5209613271066472, 0.17365377570221577, 0.17365377570221577, 0.17365377570221577, 0.17365377570221577, 0.1426297538884019, 0.19017300518453586, 0.1426297538884019, 0.4754325129613397, 0.047543251296133966, 0.14365310124475214, 0.3526030666916643, 0.18283121976604816, 0.23506871112777622, 0.07835623704259208, 0.25034637331488074, 0.25034637331488074, 0.16689758220992051, 0.08344879110496026, 0.25034637331488074, 0.24333403275600524, 0.24333403275600524, 0.1738100233971466, 0.1738100233971466, 0.1738100233971466, 0.18135764983894892, 0.18135764983894892, 0.18135764983894892, 0.36271529967789784, 0.07254305993557957, 0.21529705113518197, 0.1794142092793183, 0.21529705113518197, 0.32294557670277296, 0.03588284185586366, 0.4644926248651268, 0.11986906448132305, 0.1648199636618192, 0.14983633060165383, 0.0899017983609923, 0.1717913502997235, 0.4008464840326882, 0.22905513373296466, 0.14315945858310292, 0.08589567514986175, 0.17766592030874062, 0.3239790311512329, 0.18811685679749007, 0.21946966626373843, 0.09405842839874504, 0.34479441460886906, 0.28503004940999843, 0.12872324812064445, 0.12412598925919287, 0.11952873039774128, 0.425240447307062, 0.14833969092106816, 0.14833969092106816, 0.21756488001756663, 0.059335876368427264, 0.21147365401548912, 0.21147365401548912, 0.10573682700774456, 0.3172104810232337, 0.10573682700774456, 0.13727772774887995, 0.2059165916233199, 0.2059165916233199, 0.2059165916233199, 0.2059165916233199, 0.17330594810507124, 0.22803414224351481, 0.3192477991409207, 0.17330594810507124, 0.10033502258714651, 0.16558909490982127, 0.16558909490982127, 0.16558909490982127, 0.33117818981964253, 0.16558909490982127, 0.19669989825014753, 0.1803082400626352, 0.23767904371892826, 0.2950498473752213, 0.0901541200313176, 0.20321089481257976, 0.24714838558286728, 0.19222652212000788, 0.24165619923658133, 0.11533591327200472, 0.7705998109149945, 0.11008568727357065, 0.05504284363678533, 0.05504284363678533, 0.05504284363678533, 0.2737970590924161, 0.37810070065143175, 0.15645546233852348, 0.1434175071436465, 0.06518977597438479, 0.23119121972656376, 0.18061814041137794, 0.2817642990417496, 0.23841594534301888, 0.07224725616455117, 0.1860115227783674, 0.22321382733404088, 0.3720230455567348, 0.14880921822269394, 0.07440460911134697, 0.2648736056391528, 0.17658240375943518, 0.35316480751887036, 0.08829120187971759, 0.08829120187971759, 0.2638463186728656, 0.1319231593364328, 0.39576947800929846, 0.1319231593364328, 0.1319231593364328, 0.19296497979125699, 0.09648248989562849, 0.38592995958251397, 0.19296497979125699, 0.09648248989562849, 0.3052061585912606, 0.02774601441738733, 0.41619021626080993, 0.13873007208693663, 0.11098405766954932, 0.42217164014864084, 0.19299274978223582, 0.16886865605945633, 0.14474456233667687, 0.08443432802972817, 0.4133311446525176, 0.2755540964350117, 0.08036994479354508, 0.1262956275327137, 0.1033327861631294, 0.2083328565611596, 0.16098448006998697, 0.2746205836488013, 0.26515090835056676, 0.09469675298234527, 0.20263906516772953, 0.2786287146056281, 0.17730918202176335, 0.12664941572983096, 0.20263906516772953, 0.21959488965523608, 0.2744936120690451, 0.1463965931034907, 0.3110927603449178, 0.05489872241380902, 0.1710316825538593, 0.256547523830789, 0.3420633651077186, 0.13682534604308744, 0.10261900953231559, 0.3023618521926446, 0.19241208775895566, 0.1649246466505334, 0.1649246466505334, 0.19241208775895566, 0.23473645978754237, 0.23473645978754237, 0.16766889984824454, 0.16766889984824454, 0.20120267981789344, 0.31640532511705566, 0.23485756091162893, 0.21528609750232652, 0.1663574389790705, 0.06850012193255844, 0.25079354334713744, 0.37619031502070616, 0.12539677167356872, 0.12539677167356872, 0.12539677167356872, 0.13248703936455825, 0.1987305590468374, 0.3974611180936748, 0.13248703936455825, 0.13248703936455825, 0.3836790422789067, 0.15986626761621112, 0.16626091832085957, 0.16626091832085957, 0.12149836338832046, 0.25004596762391545, 0.17860426258851103, 0.33934809891817097, 0.12502298381195773, 0.10716255755310662, 0.17763959618403732, 0.17763959618403732, 0.17763959618403732, 0.35527919236807465, 0.08881979809201866, 0.3834197406436917, 0.12612491468542492, 0.22702484643376483, 0.1463049010350929, 0.1210799180980079, 0.1906222030927154, 0.1906222030927154, 0.1906222030927154, 0.2859333046390731, 0.0953111015463577, 0.16986683334663535, 0.12740012500997652, 0.35388923613882367, 0.22648911112884715, 0.11324455556442357, 0.20309418732107032, 0.20309418732107032, 0.21504090422230973, 0.20309418732107032, 0.17920075351859144, 0.20061349934017597, 0.20061349934017597, 0.20061349934017597, 0.20061349934017597, 0.20061349934017597, 0.24174014780818456, 0.24174014780818456, 0.24174014780818456, 0.12087007390409228, 0.24174014780818456, 0.14373709910903007, 0.43121129732709024, 0.14373709910903007, 0.28747419821806014, 0.14373709910903007, 0.18831060329889196, 0.22597272395867035, 0.3766212065977839, 0.07532424131955678, 0.11298636197933518, 0.15002108011041698, 0.32147374309375065, 0.12858949723750027, 0.30004216022083396, 0.08572633149166684, 0.2427848297451313, 0.2427848297451313, 0.12139241487256565, 0.2427848297451313, 0.2427848297451313, 0.1922842350995714, 0.1922842350995714, 0.1922842350995714, 0.2884263526493571, 0.0961421175497857, 0.18836240884470212, 0.18836240884470212, 0.2825436132670532, 0.1412718066335266, 0.18836240884470212, 0.21385763917427256, 0.17497443205167754, 0.30134485520011134, 0.17497443205167754, 0.13609122492908254, 0.4596273928396475, 0.15320913094654917, 0.15320913094654917, 0.15320913094654917, 0.05106971031551639, 0.1968883424106086, 0.35439901633909543, 0.183762452916568, 0.17063656342252745, 0.07875533696424343, 0.6647426574876873, 0.12463924827894138, 0.12463924827894138, 0.04154641609298046, 0.04154641609298046, 0.18012416047961186, 0.060041386826537285, 0.28019313852384065, 0.3602483209592237, 0.12008277365307457, 0.2386905424996224, 0.14321432549977345, 0.2466468939162765, 0.22277783966631426, 0.14321432549977345, 0.2252221465338566, 0.16087296180989757, 0.25739673889583614, 0.1930475541718771, 0.1930475541718771, 0.20587474611897225, 0.18528727150707502, 0.13381858497733196, 0.46321817876768756, 0.020587474611897225, 0.1255554734975255, 0.3766664204925765, 0.18833321024628824, 0.1255554734975255, 0.15694434187190687, 0.5381713215090412, 0.1614513964527124, 0.1614513964527124, 0.10763426430180825, 0.10763426430180825, 0.3134314869587364, 0.34825720773192936, 0.1044771623195788, 0.1044771623195788, 0.12189002270617527, 0.201463303060029, 0.1007316515300145, 0.201463303060029, 0.201463303060029, 0.201463303060029, 0.23440803977130079, 0.3516120596569512, 0.18752643181704062, 0.14064482386278046, 0.08204281391995527, 0.24098846763029635, 0.16065897842019758, 0.36148270144544453, 0.16065897842019758, 0.08032948921009879, 0.16262964275532105, 0.2168395236737614, 0.2168395236737614, 0.3252592855106421, 0.08131482137766052, 0.2784308526438741, 0.4176462789658112, 0.11137234105754965, 0.13921542632193706, 0.05568617052877482, 0.19974626519583305, 0.19974626519583305, 0.1498096988968748, 0.19974626519583305, 0.24968283149479129, 0.2404820341317402, 0.1603213560878268, 0.18036152559880514, 0.30060254266467523, 0.10020084755489175, 0.17720073795505686, 0.35440147591011373, 0.17720073795505686, 0.08860036897752843, 0.17720073795505686, 0.13922788454944038, 0.13922788454944038, 0.4176836536483211, 0.2320464742490673, 0.04640929484981346, 0.22272632447926693, 0.22767579835658397, 0.232625272233901, 0.24747369386585213, 0.06434316040512156, 0.31187460873841755, 0.16734735103037038, 0.28144781764198656, 0.14452725770804714, 0.09128037328929293, 0.1793283194473945, 0.39452230278426786, 0.2151939833368734, 0.1075969916684367, 0.1075969916684367, 0.3226158086447281, 0.22485344238874988, 0.15967853155143108, 0.17923100480262671, 0.11079734842344197, 0.26019797426657537, 0.18987419743777123, 0.20393895280353208, 0.20393895280353208, 0.1406475536576083, 0.3995941984321093, 0.21924637436098032, 0.16266666484846928, 0.15205796931487345, 0.06718840504610687, 0.45696998533541966, 0.1757576866674691, 0.07030307466698764, 0.2109092240009629, 0.07030307466698764, 0.2615003570187345, 0.3292967458754434, 0.13075017850936724, 0.19370396816202554, 0.08716678567291149, 0.17658324830516928, 0.17658324830516928, 0.17658324830516928, 0.35316649661033855, 0.17658324830516928, 0.2487180214899678, 0.2487180214899678, 0.21214184185909019, 0.24140278556379227, 0.051206651483228664, 0.48144061092239027, 0.22220335888725706, 0.09258473286969043, 0.11110167944362853, 0.055550839721814266, 0.35015095762312715, 0.22656826669731758, 0.15104551113154505, 0.1991054464915821, 0.07552275556577252, 0.2242321942539798, 0.1775171537844007, 0.2802902428174748, 0.20554617806614817, 0.1121160971269899, 0.17927753334363997, 0.17927753334363997, 0.17927753334363997, 0.35855506668727993, 0.17927753334363997, 0.2681693880733918, 0.24550718626437276, 0.23039905172502675, 0.13975024448895065, 0.11708804267993163, 0.2035050287251994, 0.36004735851381436, 0.18785079574633792, 0.15654232978861493, 0.10957963085203046, 0.27168634579753453, 0.24149897404225296, 0.21131160228697132, 0.17249926717303782, 0.09918707862449674, 0.6586765517707746, 0.11623703854778375, 0.07749135903185583, 0.07749135903185583, 0.07749135903185583, 0.18251120239141008, 0.21292973612331176, 0.2281390029892626, 0.18251120239141008, 0.18251120239141008, 0.7664016089509753, 0.07664016089509754, 0.10218688119346338, 0.05109344059673169, 0.025546720298365844, 0.2949350603398504, 0.1410558984234067, 0.3462281143119983, 0.1410558984234067, 0.08976284445125882, 0.20725176795885622, 0.23833953315268466, 0.3005150635403415, 0.12435106077531374, 0.12435106077531374, 0.3780685034215714, 0.16308837402499157, 0.17791458984544536, 0.17050148193521847, 0.11119661865340336, 0.5123258558137858, 0.16178711236224813, 0.16178711236224813, 0.08089355618112407, 0.08089355618112407, 0.2488664871780797, 0.17420654102465577, 0.1493198923068478, 0.2986397846136956, 0.12443324358903984, 0.2371173527880844, 0.1185586763940422, 0.4149553673791477, 0.1185586763940422, 0.1185586763940422, 0.1231893939185473, 0.4927575756741892, 0.1231893939185473, 0.1231893939185473, 0.18167760850904993, 0.3027960141817499, 0.12111840567269996, 0.3027960141817499, 0.06055920283634998, 0.2077267230703776, 0.3635217653731608, 0.16733541580669306, 0.19618634956646774, 0.06347205427150426, 0.2505417447512328, 0.3758126171268492, 0.1252708723756164, 0.1252708723756164, 0.1252708723756164, 0.267983963522069, 0.44663993920344836, 0.08932798784068967, 0.17865597568137934, 0.08932798784068967, 0.3119467330478238, 0.1403760298715207, 0.17157070317630307, 0.3119467330478238, 0.06238934660956476, 0.1837794986757746, 0.24503933156769944, 0.3675589973515492, 0.12251966578384972, 0.06125983289192486, 0.3085527270283495, 0.25625565465066313, 0.16735063160859634, 0.15689121713305906, 0.10982385199314135, 0.23276440365442952, 0.21821662842602768, 0.1309299770556166, 0.3200510550248406, 0.10183442659881292, 0.21473569414800261, 0.14315712943200176, 0.35789282358000435, 0.14315712943200176, 0.14315712943200176, 0.19645010894977488, 0.4911252723744372, 0.09822505447488744, 0.09822505447488744, 0.09822505447488744, 0.2826900305446087, 0.42403504581691304, 0.14134501527230434, 0.14134501527230434, 0.14134501527230434, 0.19902520033312754, 0.26744011294764014, 0.21768381286435823, 0.21768381286435823, 0.105732137676974, 0.32191542214278107, 0.20755073269731938, 0.19484354498115697, 0.17366489878755295, 0.1016575017292993, 0.28330272433785764, 0.18476264630729847, 0.21555642069184822, 0.16628638167656862, 0.14165136216892882, 0.3592611389099301, 0.17963056945496506, 0.18744059421387657, 0.12496039614258438, 0.14839047041931894, 0.12902471792033998, 0.19353707688050995, 0.19353707688050995, 0.25804943584067996, 0.19353707688050995, 0.19098320164024898, 0.1718848814762241, 0.4201630436085478, 0.1718848814762241, 0.0572949604920747, 0.19182124089607777, 0.19182124089607777, 0.35167227497614256, 0.19182124089607777, 0.09591062044803889, 0.28858043744420253, 0.3132153528357808, 0.119655303330523, 0.1618865868589429, 0.11613602970315468, 0.2232251891796407, 0.09921119519095142, 0.3968447807638057, 0.12401399398868929, 0.17361959158416498, 0.15630283205087117, 0.39075708012717797, 0.15630283205087117, 0.15630283205087117, 0.15630283205087117, 0.2275897415133007, 0.18207179321064054, 0.3641435864212811, 0.13655384490798042, 0.09103589660532027, 0.2369572276196747, 0.11847861380983735, 0.2369572276196747, 0.35543584142951207, 0.11847861380983735, 0.21080512195724277, 0.1907284436756006, 0.3212268525062747, 0.14053674797149518, 0.14053674797149518, 0.20135859277852594, 0.2588896192866762, 0.17259307952445083, 0.23731548434611988, 0.1294448096433381, 0.1626125333164352, 0.2439187999746528, 0.1626125333164352, 0.3658781999619792, 0.1219593999873264, 0.26647448172485183, 0.2246745630229143, 0.1724246646454924, 0.2194495731851721, 0.11494977643032825, 0.2176776456372759, 0.39181976214709663, 0.13060658738236555, 0.17414211650982073, 0.08707105825491036, 0.12333463540438483, 0.27133619788964664, 0.3700039062131545, 0.17266848956613876, 0.07400078124263089, 0.17828295037805647, 0.08914147518902824, 0.3342805319588559, 0.35656590075611294, 0.04457073759451412, 0.20447500240998903, 0.27694715516289653, 0.16823892603353527, 0.2536525346351763, 0.09576677328062777, 0.14814624081291985, 0.1834191552921865, 0.22574665266730645, 0.17989186384425981, 0.2610195671465731, 0.18255676682134278, 0.18255676682134278, 0.19915283653237392, 0.3485174639316544, 0.0829803485551558, 0.14293442272942175, 0.23822403788236957, 0.19057923030589566, 0.3335136530353174, 0.09528961515294783, 0.21418333969750397, 0.3569722328291733, 0.14278889313166931, 0.14278889313166931, 0.07139444656583466, 0.2507036970016003, 0.2507036970016003, 0.20891974750133357, 0.18570644222340763, 0.10213854322287419, 0.1299638139375225, 0.259927627875045, 0.19494572090628373, 0.3249095348438062, 0.06498190696876124, 0.23022779090303172, 0.31574097038130067, 0.13813667454181902, 0.21049398025420044, 0.10524699012710022, 0.16704339438810203, 0.4454490517016054, 0.11136226292540136, 0.16704339438810203, 0.11136226292540136, 0.33248369030050556, 0.16993610837581397, 0.2068787406314257, 0.14777052902244692, 0.14038200257132458, 0.24427879618111867, 0.3412148264117213, 0.12020067748594727, 0.2055043840888776, 0.08918114781215443, 0.20017072823723162, 0.1334471521581544, 0.33361788039538604, 0.1334471521581544, 0.1334471521581544, 0.21919296152540726, 0.21919296152540726, 0.21919296152540726, 0.21919296152540726, 0.21919296152540726, 0.24806286262117347, 0.4341100095870536, 0.12403143131058673, 0.1860471469658801, 0.06201571565529337, 0.22361309398697457, 0.33541964098046184, 0.11180654699348729, 0.22361309398697457, 0.11180654699348729, 0.28073374493663905, 0.208653459074529, 0.23900305312173323, 0.17451016577142428, 0.0948424813975132, 0.2891052252635066, 0.2628229320577333, 0.19974542836387732, 0.12089854874655732, 0.126155007387712, 0.1548310270028708, 0.387077567507177, 0.1548310270028708, 0.1548310270028708, 0.0774155135014354, 0.18457109637575617, 0.23071387046969521, 0.18457109637575617, 0.3229994186575733, 0.13842832228181712, 0.17527366941194672, 0.17527366941194672, 0.39436575617688013, 0.2190920867649334, 0.04381841735298668, 0.1826123485048088, 0.2773002329147097, 0.17246721803231943, 0.2773002329147097, 0.08792446409490795, 0.21633723230764446, 0.10816861615382223, 0.10816861615382223, 0.3245058484614667, 0.10816861615382223, 0.26675657680595727, 0.1530570522657132, 0.3061141045314264, 0.17929540408269262, 0.09620728999559115, 0.515627088833183, 0.09207626586306839, 0.18415253172613677, 0.12890677220829574, 0.0736610126904547, 0.13301296490480993, 0.13301296490480993, 0.26602592980961987, 0.3990388947144298, 0.13301296490480993, 0.2783547500190565, 0.160589278857148, 0.23553094232381705, 0.18200118270476773, 0.14988332693333814, 0.21957719295897168, 0.131746315775383, 0.24153491225486887, 0.19761947366307453, 0.19761947366307453, 0.2004661518626292, 0.1093451737432523, 0.34625971685363227, 0.2095782496745669, 0.13668146717906537, 0.23863601902981238, 0.20880651665108582, 0.25355077021917566, 0.2237212678404491, 0.07457375594681637, 0.20215343052956286, 0.15161507289717216, 0.353768503426735, 0.20215343052956286, 0.10107671526478143, 0.49674298586348553, 0.04967429858634855, 0.29804579151809135, 0.0993485971726971, 0.0993485971726971, 0.46057710133739077, 0.10837108266762135, 0.18964939466833736, 0.16255662400143203, 0.05418554133381068, 0.19482027516145836, 0.19482027516145836, 0.19482027516145836, 0.3896405503229167, 0.09741013758072918, 0.28982757998126696, 0.07245689499531674, 0.36228447497658367, 0.14491378999063348, 0.14491378999063348, 0.09773706456121657, 0.6450646261040294, 0.11728447747345988, 0.11728447747345988, 0.039094825824486625, 0.5402076408248242, 0.24554892764764735, 0.09821957105905894, 0.09821957105905894, 0.04910978552952947, 0.2090017741203947, 0.05971479260582705, 0.26871656672622174, 0.17914437781748116, 0.26871656672622174, 0.5569515106159997, 0.09282525176933329, 0.18565050353866658, 0.09282525176933329, 0.09282525176933329, 0.19826313331190212, 0.39652626662380425, 0.1486973499839266, 0.1486973499839266, 0.09913156665595106, 0.4677523994909089, 0.1659766578838709, 0.0905327224821114, 0.150887870803519, 0.1357990837231671, 0.29381359525959755, 0.14103052572460684, 0.35257631431151704, 0.10577289429345511, 0.11752543810383902, 0.23755143816368676, 0.23755143816368676, 0.23755143816368676, 0.11877571908184338, 0.23755143816368676, 0.4462298909955453, 0.09916219799901006, 0.24790549499752518, 0.09916219799901006, 0.09916219799901006, 0.3026324763773898, 0.23279421259799216, 0.1955471385823134, 0.18157948582643388, 0.08380591653527718, 0.17557718718327955, 0.14046174974662365, 0.3511543743665591, 0.14046174974662365, 0.17557718718327955, 0.325826214394624, 0.2339910265536682, 0.21008871738958382, 0.12705964345118542, 0.10315733428710104, 0.37855452986722016, 0.21030807214845565, 0.21030807214845565, 0.08412322885938225, 0.1261848432890734, 0.20964350159763478, 0.4612157035147965, 0.1537385678382655, 0.11180986751873855, 0.0698811671992116, 0.10536231398176248, 0.4214492559270499, 0.21072462796352495, 0.1580434709726437, 0.10536231398176248, 0.22574187261840528, 0.22574187261840528, 0.2079201458327417, 0.20197957023752053, 0.1425738142853086, 0.42921763980861594, 0.166917971036684, 0.11922712216905998, 0.166917971036684, 0.10730440995215398, 0.1751145396390112, 0.1751145396390112, 0.3502290792780224, 0.1751145396390112, 0.0875572698195056, 0.3145744538070333, 0.22262192115574667, 0.20326349322915999, 0.15002781643104668, 0.10647135359622667, 0.345286490785235, 0.16669003003425137, 0.2024093221844481, 0.19645610682608197, 0.08929823037549181, 0.4467987918169927, 0.14109435531062928, 0.13325578001559432, 0.16461008119573417, 0.10974005413048944, 0.14473314327224304, 0.10854985745418227, 0.2532830007264253, 0.2532830007264253, 0.23519135781739492, 0.24725624413178487, 0.12362812206589244, 0.24725624413178487, 0.3090703051647311, 0.06181406103294622, 0.16307070599070742, 0.3872929267279301, 0.18345454423954582, 0.16307070599070742, 0.12230302949303055, 0.2993687918917588, 0.1905074130220283, 0.35379948132662403, 0.10886137886973046, 0.08164603415229785, 0.2405479061662018, 0.2405479061662018, 0.2405479061662018, 0.1202739530831009, 0.2405479061662018, 0.16621578042042964, 0.08310789021021482, 0.2908776157357519, 0.16621578042042964, 0.2908776157357519, 0.15986419729857676, 0.07993209864928838, 0.23979629594786514, 0.23979629594786514, 0.23979629594786514, 0.18420415029579368, 0.3164532838414917, 0.26449826709139607, 0.10863321684110909, 0.12752595020478025, 0.21711239124885393, 0.37391578492858174, 0.18092699270737828, 0.15680339367972781, 0.0723707970829513, 0.2079475343451791, 0.3927897870964494, 0.13863168956345273, 0.2079475343451791, 0.04621056318781758, 0.2683995091299315, 0.2683995091299315, 0.178933006086621, 0.0894665030433105, 0.178933006086621, 0.3306651075554896, 0.16941483905620763, 0.2796365415747042, 0.13471541418927355, 0.08572799084771952, 0.4610084902530724, 0.18556316588802912, 0.15656892121802457, 0.15077007228402367, 0.04639079147200728, 0.5931699179420209, 0.11533859515539295, 0.1318155373204491, 0.06590776866022455, 0.0988616529903368, 0.19297827819193936, 0.14473370864395452, 0.24122284773992417, 0.3859565563838787, 0.04824456954798484, 0.21856716538874932, 0.24588806106234298, 0.13660447836796832, 0.21856716538874932, 0.17758582187835883, 0.1255271275603874, 0.31381781890096844, 0.18829069134058107, 0.18829069134058107, 0.18829069134058107, 0.43506875551014995, 0.1450229185033833, 0.1450229185033833, 0.1450229185033833, 0.2356007016377203, 0.4123012278660105, 0.11780035081886014, 0.2356007016377203, 0.05890017540943007, 0.1746793413696019, 0.1746793413696019, 0.1746793413696019, 0.3493586827392038, 0.1746793413696019, 0.26362274975970373, 0.21374817548084088, 0.21374817548084088, 0.14962372283658862, 0.163873601201978, 0.3027136776852847, 0.18277052237602093, 0.17705894355177026, 0.20561683767302355, 0.13136631295776505, 0.1584886052814272, 0.21131814037523625, 0.36980674565666344, 0.1584886052814272, 0.10565907018761812, 0.1849968562998987, 0.2690863364362163, 0.33635792054527036, 0.13454316821810816, 0.06727158410905408, 0.555926476436119, 0.07941806806230273, 0.07941806806230273, 0.15883613612460545, 0.07941806806230273, 0.3474619268630589, 0.23888007471835299, 0.1230594324306667, 0.13753701271662747, 0.15201459300258827, 0.20441942897764317, 0.40883885795528635, 0.10220971448882159, 0.10220971448882159, 0.10220971448882159, 0.3702600859276921, 0.15246003538199085, 0.10890002527285061, 0.3049200707639817, 0.08712002021828048, 0.2400076909942704, 0.25263967473081095, 0.2715876503356218, 0.10737186176059467, 0.12631983736540547, 0.26940994231478455, 0.31022963054429736, 0.18777056585575894, 0.15511481527214868, 0.08163937645902562, 0.1793502125731783, 0.19429606362094315, 0.209241914668708, 0.29891702095529715, 0.104620957334354, 0.18553892208381167, 0.18553892208381167, 0.13915419156285874, 0.3246931136466704, 0.13915419156285874, 0.4377168180104659, 0.21563990299045013, 0.1448327706652277, 0.13517725262087918, 0.06437012029565675, 0.3456753936988492, 0.1610533084278729, 0.2199752505356313, 0.1728376968494246, 0.09820323684626397, 0.21164611085006169, 0.28219481446674893, 0.14109740723337447, 0.14109740723337447, 0.21164611085006169, 0.24737477058365936, 0.4329058485214039, 0.12368738529182968, 0.18553107793774454, 0.06184369264591484, 0.2638993497528985, 0.13194967487644926, 0.3958490246293478, 0.13194967487644926, 0.06597483743822463, 0.28034477173611894, 0.14017238586805947, 0.42051715760417846, 0.07008619293402973, 0.07008619293402973, 0.23096398624883235, 0.16167479037418264, 0.1847711889990659, 0.3464459793732485, 0.09238559449953294, 0.2806850426164063, 0.30073397423186393, 0.21385527056488102, 0.14034252130820316, 0.06682977205152531, 0.2704135203550943, 0.07726100581574123, 0.34767452617083555, 0.1480835944801707, 0.15452201163148246, 0.27907275428301986, 0.18232753279823963, 0.24186305371195055, 0.16372268251270497, 0.13395492205584952, 0.17959525057206496, 0.2693928758580974, 0.17959525057206496, 0.17959525057206496, 0.17959525057206496, 0.1689298469182776, 0.30090628982318196, 0.25339477037741637, 0.1900460777830623, 0.08974398117533497, 0.12630469117475007, 0.3789140735242502, 0.12630469117475007, 0.12630469117475007, 0.12630469117475007, 0.17837630117129483, 0.27225856494566053, 0.23470565943591423, 0.25348211219078737, 0.07510581101949255, 0.1804219253910606, 0.1804219253910606, 0.1804219253910606, 0.1804219253910606, 0.1804219253910606, 0.23266439371072759, 0.17234399534127967, 0.2240471939436636, 0.19819559464247163, 0.17234399534127967, 0.2714970820921024, 0.1357485410460512, 0.2714970820921024, 0.1357485410460512, 0.2714970820921024, 0.22276753393681073, 0.31187454751153504, 0.15593727375576752, 0.13366052036208645, 0.1782140271494486, 0.31749606309663375, 0.18972325721628117, 0.1471323219228303, 0.2555456117607052, 0.09292567700389281, 0.21670530771265709, 0.24822607974358904, 0.2521661762474555, 0.17730434267399217, 0.10244250910052881, 0.3499878883202289, 0.24902984361247057, 0.1548023352185628, 0.1548023352185628, 0.0942275083939078], \"Term\": [\"000\", \"000\", \"000\", \"000\", \"000\", \"1960\", \"1960\", \"1960\", \"1960\", \"1960\", \"30\", \"30\", \"30\", \"30\", \"30\", \"85\", \"85\", \"85\", \"85\", \"85\", \"act\", \"act\", \"act\", \"act\", \"act\", \"activities\", \"activities\", \"activities\", \"activities\", \"activities\", \"added\", \"added\", \"added\", \"added\", \"added\", \"adjoining\", \"adjoining\", \"adjoining\", \"adjoining\", \"adjoining\", \"adjusted\", \"adjusted\", \"adjusted\", \"adjusted\", \"adjusted\", \"administration\", \"administration\", \"administration\", \"administration\", \"administration\", \"affairs\", \"affairs\", \"affairs\", \"affairs\", \"affairs\", \"agreement\", \"agreement\", \"agreement\", \"agreement\", \"agreement\", \"agricultural\", \"agricultural\", \"agricultural\", \"agricultural\", \"agricultural\", \"air\", \"air\", \"air\", \"air\", \"air\", \"alfred\", \"alfred\", \"alfred\", \"alfred\", \"alfred\", \"allocation\", \"allocation\", \"allocation\", \"allocation\", \"allocation\", \"america\", \"america\", \"america\", \"america\", \"america\", \"american\", \"american\", \"american\", \"american\", \"american\", \"anti\", \"anti\", \"anti\", \"anti\", \"anti\", \"appeal\", \"appeal\", \"appeal\", \"appeal\", \"appeal\", \"appearances\", \"appearances\", \"appearances\", \"appearances\", \"arnold\", \"arnold\", \"arnold\", \"arnold\", \"arnold\", \"arrangement\", \"arrangement\", \"arrangement\", \"arrangement\", \"arrangement\", \"array\", \"array\", \"array\", \"array\", \"array\", \"article\", \"article\", \"article\", \"article\", \"article\", \"ashamed\", \"ashamed\", \"ashamed\", \"ashamed\", \"ashamed\", \"association\", \"association\", \"association\", \"association\", \"association\", \"athletic\", \"athletic\", \"athletic\", \"athletic\", \"athletic\", \"authorized\", \"authorized\", \"authorized\", \"authorized\", \"authorized\", \"bank\", \"bank\", \"bank\", \"bank\", \"bank\", \"bargaining\", \"bargaining\", \"bargaining\", \"bargaining\", \"bargaining\", \"bars\", \"bars\", \"bars\", \"bars\", \"bars\", \"best\", \"best\", \"best\", \"best\", \"best\", \"big\", \"big\", \"big\", \"big\", \"big\", \"blocks\", \"blocks\", \"blocks\", \"blocks\", \"blocks\", \"board\", \"board\", \"board\", \"board\", \"board\", \"boat\", \"boat\", \"boat\", \"boat\", \"boat\", \"boats\", \"boats\", \"boats\", \"boats\", \"boats\", \"bombs\", \"bombs\", \"bombs\", \"bombs\", \"bombs\", \"brown\", \"brown\", \"brown\", \"brown\", \"brown\", \"built\", \"built\", \"built\", \"built\", \"built\", \"business\", \"business\", \"business\", \"business\", \"business\", \"came\", \"came\", \"came\", \"came\", \"came\", \"car\", \"car\", \"car\", \"car\", \"car\", \"categories\", \"categories\", \"categories\", \"categories\", \"categories\", \"cattle\", \"cattle\", \"cattle\", \"cattle\", \"cattle\", \"cent\", \"cent\", \"cent\", \"cent\", \"cent\", \"centers\", \"centers\", \"centers\", \"centers\", \"centers\", \"chairman\", \"chairman\", \"chairman\", \"chairman\", \"chairman\", \"chamber\", \"chamber\", \"chamber\", \"chamber\", \"chamber\", \"chemical\", \"chemical\", \"chemical\", \"chemical\", \"chemical\", \"child\", \"child\", \"child\", \"child\", \"child\", \"china\", \"china\", \"china\", \"china\", \"china\", \"church\", \"church\", \"church\", \"church\", \"church\", \"city\", \"city\", \"city\", \"city\", \"city\", \"class\", \"class\", \"class\", \"class\", \"class\", \"clearer\", \"clearer\", \"clearer\", \"clearer\", \"clearer\", \"cloth\", \"cloth\", \"cloth\", \"cloth\", \"cloth\", \"club\", \"club\", \"club\", \"club\", \"club\", \"collective\", \"collective\", \"collective\", \"collective\", \"collective\", \"college\", \"college\", \"college\", \"college\", \"college\", \"come\", \"come\", \"come\", \"come\", \"come\", \"commodities\", \"commodities\", \"commodities\", \"commodities\", \"commodities\", \"communist\", \"communist\", \"communist\", \"communist\", \"communist\", \"company\", \"company\", \"company\", \"company\", \"company\", \"compared\", \"compared\", \"compared\", \"compared\", \"compared\", \"completion\", \"completion\", \"completion\", \"completion\", \"completion\", \"comprehensive\", \"comprehensive\", \"comprehensive\", \"comprehensive\", \"comprehensive\", \"controls\", \"controls\", \"controls\", \"controls\", \"controls\", \"cooling\", \"cooling\", \"cooling\", \"cooling\", \"cooling\", \"costs\", \"costs\", \"costs\", \"costs\", \"costs\", \"countries\", \"countries\", \"countries\", \"countries\", \"countries\", \"court\", \"court\", \"court\", \"court\", \"court\", \"covered\", \"covered\", \"covered\", \"covered\", \"covered\", \"daily\", \"daily\", \"daily\", \"daily\", \"daily\", \"dallas\", \"dallas\", \"dallas\", \"dallas\", \"dallas\", \"daughter\", \"daughter\", \"daughter\", \"daughter\", \"daughter\", \"david\", \"david\", \"david\", \"david\", \"david\", \"day\", \"day\", \"day\", \"day\", \"day\", \"decent\", \"decent\", \"decent\", \"decent\", \"decent\", \"denver\", \"denver\", \"denver\", \"denver\", \"denver\", \"department\", \"department\", \"department\", \"department\", \"department\", \"designed\", \"designed\", \"designed\", \"designed\", \"designed\", \"designers\", \"designers\", \"designers\", \"designers\", \"designers\", \"development\", \"development\", \"development\", \"development\", \"development\", \"dimensions\", \"dimensions\", \"dimensions\", \"dimensions\", \"dimensions\", \"division\", \"division\", \"division\", \"division\", \"division\", \"education\", \"education\", \"education\", \"education\", \"education\", \"educational\", \"educational\", \"educational\", \"educational\", \"educational\", \"edward\", \"edward\", \"edward\", \"edward\", \"edward\", \"elder\", \"elder\", \"elder\", \"elder\", \"elder\", \"electronic\", \"electronic\", \"electronic\", \"electronic\", \"electronic\", \"english\", \"english\", \"english\", \"english\", \"english\", \"entertain\", \"entertain\", \"entertain\", \"entertain\", \"entertain\", \"enthusiasm\", \"enthusiasm\", \"enthusiasm\", \"enthusiasm\", \"enthusiasm\", \"entrance\", \"entrance\", \"entrance\", \"entrance\", \"entrance\", \"equipment\", \"equipment\", \"equipment\", \"equipment\", \"equipment\", \"equivalent\", \"equivalent\", \"equivalent\", \"equivalent\", \"equivalent\", \"expected\", \"expected\", \"expected\", \"expected\", \"expected\", \"export\", \"export\", \"export\", \"export\", \"export\", \"faculty\", \"faculty\", \"faculty\", \"faculty\", \"faculty\", \"family\", \"family\", \"family\", \"family\", \"family\", \"features\", \"features\", \"features\", \"features\", \"features\", \"feed\", \"feed\", \"feed\", \"feed\", \"feed\", \"fig\", \"fig\", \"fig\", \"fig\", \"fig\", \"filing\", \"filing\", \"filing\", \"filing\", \"filing\", \"fiscal\", \"fiscal\", \"fiscal\", \"fiscal\", \"fiscal\", \"fish\", \"fish\", \"fish\", \"fish\", \"fish\", \"force\", \"force\", \"force\", \"force\", \"force\", \"formed\", \"formed\", \"formed\", \"formed\", \"formed\", \"formula\", \"formula\", \"formula\", \"formula\", \"formula\", \"foundation\", \"foundation\", \"foundation\", \"foundation\", \"foundation\", \"frames\", \"frames\", \"frames\", \"frames\", \"frames\", \"fund\", \"fund\", \"fund\", \"fund\", \"fund\", \"gate\", \"gate\", \"gate\", \"gate\", \"gate\", \"gear\", \"gear\", \"gear\", \"gear\", \"gear\", \"general\", \"general\", \"general\", \"general\", \"general\", \"going\", \"going\", \"going\", \"going\", \"going\", \"golf\", \"golf\", \"golf\", \"golf\", \"golf\", \"good\", \"good\", \"good\", \"good\", \"good\", \"got\", \"got\", \"got\", \"got\", \"got\", \"government\", \"government\", \"government\", \"government\", \"government\", \"granted\", \"granted\", \"granted\", \"granted\", \"granted\", \"great\", \"great\", \"great\", \"great\", \"great\", \"halfway\", \"halfway\", \"halfway\", \"halfway\", \"halfway\", \"head\", \"head\", \"head\", \"head\", \"head\", \"hearing\", \"hearing\", \"hearing\", \"hearing\", \"hearing\", \"help\", \"help\", \"help\", \"help\", \"help\", \"high\", \"high\", \"high\", \"high\", \"high\", \"hiring\", \"hiring\", \"hiring\", \"hiring\", \"hiring\", \"home\", \"home\", \"home\", \"home\", \"home\", \"hour\", \"hour\", \"hour\", \"hour\", \"hour\", \"house\", \"house\", \"house\", \"house\", \"house\", \"import\", \"import\", \"import\", \"import\", \"import\", \"inch\", \"inch\", \"inch\", \"inch\", \"inch\", \"india\", \"india\", \"india\", \"india\", \"india\", \"industrial\", \"industrial\", \"industrial\", \"industrial\", \"industrial\", \"industry\", \"industry\", \"industry\", \"industry\", \"industry\", \"interest\", \"interest\", \"interest\", \"interest\", \"interest\", \"interference\", \"interference\", \"interference\", \"interference\", \"interference\", \"interior\", \"interior\", \"interior\", \"interior\", \"interior\", \"inventory\", \"inventory\", \"inventory\", \"inventory\", \"inventory\", \"ireland\", \"ireland\", \"ireland\", \"ireland\", \"jesus\", \"jesus\", \"jesus\", \"jesus\", \"jesus\", \"john\", \"john\", \"john\", \"john\", \"john\", \"johnson\", \"johnson\", \"johnson\", \"johnson\", \"johnson\", \"judgments\", \"judgments\", \"judgments\", \"judgments\", \"judgments\", \"junior\", \"junior\", \"junior\", \"junior\", \"junior\", \"knee\", \"knee\", \"knee\", \"knee\", \"knee\", \"know\", \"know\", \"know\", \"know\", \"know\", \"labor\", \"labor\", \"labor\", \"labor\", \"labor\", \"launched\", \"launched\", \"launched\", \"launched\", \"launched\", \"lawyers\", \"lawyers\", \"lawyers\", \"lawyers\", \"lawyers\", \"lesson\", \"lesson\", \"lesson\", \"lesson\", \"lesson\", \"life\", \"life\", \"life\", \"life\", \"life\", \"little\", \"little\", \"little\", \"little\", \"little\", \"ll\", \"ll\", \"ll\", \"ll\", \"ll\", \"local\", \"local\", \"local\", \"local\", \"local\", \"luncheon\", \"luncheon\", \"luncheon\", \"luncheon\", \"luncheon\", \"machine\", \"machine\", \"machine\", \"machine\", \"machine\", \"machines\", \"machines\", \"machines\", \"machines\", \"machines\", \"man\", \"man\", \"man\", \"man\", \"man\", \"manufacturers\", \"manufacturers\", \"manufacturers\", \"manufacturers\", \"manufacturers\", \"masters\", \"masters\", \"masters\", \"masters\", \"masters\", \"matching\", \"matching\", \"matching\", \"matching\", \"matching\", \"mathematics\", \"mathematics\", \"mathematics\", \"mathematics\", \"mathematics\", \"medical\", \"medical\", \"medical\", \"medical\", \"medical\", \"members\", \"members\", \"members\", \"members\", \"members\", \"membership\", \"membership\", \"membership\", \"membership\", \"membership\", \"men\", \"men\", \"men\", \"men\", \"men\", \"minister\", \"minister\", \"minister\", \"minister\", \"minister\", \"missile\", \"missile\", \"missile\", \"missile\", \"missile\", \"motors\", \"motors\", \"motors\", \"motors\", \"motors\", \"mr\", \"mr\", \"mr\", \"mr\", \"mr\", \"mrs\", \"mrs\", \"mrs\", \"mrs\", \"mrs\", \"music\", \"music\", \"music\", \"music\", \"music\", \"musical\", \"musical\", \"musical\", \"musical\", \"musical\", \"nam\", \"nam\", \"nam\", \"nam\", \"nam\", \"national\", \"national\", \"national\", \"national\", \"national\", \"native\", \"native\", \"native\", \"native\", \"native\", \"night\", \"night\", \"night\", \"night\", \"night\", \"nixon\", \"nixon\", \"nixon\", \"nixon\", \"nixon\", \"number\", \"number\", \"number\", \"number\", \"number\", \"old\", \"old\", \"old\", \"old\", \"old\", \"operated\", \"operated\", \"operated\", \"operated\", \"operated\", \"owns\", \"owns\", \"owns\", \"owns\", \"owns\", \"passengers\", \"passengers\", \"passengers\", \"passengers\", \"passengers\", \"pentagon\", \"pentagon\", \"pentagon\", \"pentagon\", \"pentagon\", \"people\", \"people\", \"people\", \"people\", \"people\", \"place\", \"place\", \"place\", \"place\", \"place\", \"plot\", \"plot\", \"plot\", \"plot\", \"plot\", \"positions\", \"positions\", \"positions\", \"positions\", \"positions\", \"precision\", \"precision\", \"precision\", \"precision\", \"precision\", \"president\", \"president\", \"president\", \"president\", \"president\", \"professors\", \"professors\", \"professors\", \"professors\", \"professors\", \"program\", \"program\", \"program\", \"program\", \"program\", \"projects\", \"projects\", \"projects\", \"projects\", \"projects\", \"promoting\", \"promoting\", \"promoting\", \"promoting\", \"promoting\", \"property\", \"property\", \"property\", \"property\", \"property\", \"protection\", \"protection\", \"protection\", \"protection\", \"protection\", \"provide\", \"provide\", \"provide\", \"provide\", \"provide\", \"public\", \"public\", \"public\", \"public\", \"public\", \"publications\", \"publications\", \"publications\", \"publications\", \"publications\", \"puerto\", \"puerto\", \"puerto\", \"puerto\", \"puerto\", \"purchase\", \"purchase\", \"purchase\", \"purchase\", \"purchase\", \"qualifications\", \"qualifications\", \"qualifications\", \"qualifications\", \"qualifications\", \"quantity\", \"quantity\", \"quantity\", \"quantity\", \"quantity\", \"rayburn\", \"rayburn\", \"rayburn\", \"rayburn\", \"rayburn\", \"recommendation\", \"recommendation\", \"recommendation\", \"recommendation\", \"recommendation\", \"recreation\", \"recreation\", \"recreation\", \"recreation\", \"recreation\", \"relating\", \"relating\", \"relating\", \"relating\", \"relating\", \"remarks\", \"remarks\", \"remarks\", \"remarks\", \"remarks\", \"return\", \"return\", \"return\", \"return\", \"return\", \"rhode\", \"rhode\", \"rhode\", \"rhode\", \"rhode\", \"richmond\", \"richmond\", \"richmond\", \"richmond\", \"richmond\", \"rico\", \"rico\", \"rico\", \"rico\", \"rico\", \"right\", \"right\", \"right\", \"right\", \"right\", \"roof\", \"roof\", \"roof\", \"roof\", \"roof\", \"said\", \"said\", \"said\", \"said\", \"said\", \"sales\", \"sales\", \"sales\", \"sales\", \"sales\", \"sam\", \"sam\", \"sam\", \"sam\", \"sam\", \"santa\", \"santa\", \"santa\", \"santa\", \"santa\", \"school\", \"school\", \"school\", \"school\", \"school\", \"section\", \"section\", \"section\", \"section\", \"section\", \"semi\", \"semi\", \"semi\", \"semi\", \"semi\", \"service\", \"service\", \"service\", \"service\", \"service\", \"set\", \"set\", \"set\", \"set\", \"set\", \"shall\", \"shall\", \"shall\", \"shall\", \"shall\", \"shelter\", \"shelter\", \"shelter\", \"shelter\", \"shelter\", \"shipping\", \"shipping\", \"shipping\", \"shipping\", \"shipping\", \"sides\", \"sides\", \"sides\", \"sides\", \"sides\", \"signs\", \"signs\", \"signs\", \"signs\", \"signs\", \"sink\", \"sink\", \"sink\", \"sink\", \"sink\", \"site\", \"site\", \"site\", \"site\", \"site\", \"sites\", \"sites\", \"sites\", \"sites\", \"sites\", \"small\", \"small\", \"small\", \"small\", \"small\", \"soviet\", \"soviet\", \"soviet\", \"soviet\", \"soviet\", \"speaker\", \"speaker\", \"speaker\", \"speaker\", \"speaker\", \"springs\", \"springs\", \"springs\", \"springs\", \"springs\", \"state\", \"state\", \"state\", \"state\", \"state\", \"states\", \"states\", \"states\", \"states\", \"states\", \"stations\", \"stations\", \"stations\", \"stations\", \"stations\", \"stockholders\", \"stockholders\", \"stockholders\", \"stockholders\", \"stockholders\", \"street\", \"street\", \"street\", \"street\", \"street\", \"strip\", \"strip\", \"strip\", \"strip\", \"strip\", \"structures\", \"structures\", \"structures\", \"structures\", \"struggle\", \"struggle\", \"struggle\", \"struggle\", \"struggle\", \"suicide\", \"suicide\", \"suicide\", \"suicide\", \"suicide\", \"system\", \"system\", \"system\", \"system\", \"system\", \"tax\", \"tax\", \"tax\", \"tax\", \"tax\", \"technology\", \"technology\", \"technology\", \"technology\", \"technology\", \"texas\", \"texas\", \"texas\", \"texas\", \"texas\", \"thereof\", \"thereof\", \"thereof\", \"thereof\", \"thereof\", \"thought\", \"thought\", \"thought\", \"thought\", \"thought\", \"thrown\", \"thrown\", \"thrown\", \"thrown\", \"thrown\", \"title\", \"title\", \"title\", \"title\", \"title\", \"today\", \"today\", \"today\", \"today\", \"today\", \"took\", \"took\", \"took\", \"took\", \"took\", \"union\", \"union\", \"union\", \"union\", \"union\", \"unions\", \"unions\", \"unions\", \"unions\", \"unions\", \"united\", \"united\", \"united\", \"united\", \"united\", \"use\", \"use\", \"use\", \"use\", \"use\", \"va\", \"va\", \"va\", \"va\", \"va\", \"viet\", \"viet\", \"viet\", \"viet\", \"viet\", \"virgin\", \"virgin\", \"virgin\", \"virgin\", \"virgin\", \"vocational\", \"vocational\", \"vocational\", \"vocational\", \"vocational\", \"volume\", \"volume\", \"volume\", \"volume\", \"volume\", \"war\", \"war\", \"war\", \"war\", \"war\", \"water\", \"water\", \"water\", \"water\", \"water\", \"way\", \"way\", \"way\", \"way\", \"way\", \"wayne\", \"wayne\", \"wayne\", \"wayne\", \"wayne\", \"week\", \"week\", \"week\", \"week\", \"week\", \"wells\", \"wells\", \"wells\", \"wells\", \"wells\", \"west\", \"west\", \"west\", \"west\", \"west\", \"wheeled\", \"wheeled\", \"wheeled\", \"wheeled\", \"wheeled\", \"white\", \"white\", \"white\", \"white\", \"white\", \"width\", \"width\", \"width\", \"width\", \"width\", \"wish\", \"wish\", \"wish\", \"wish\", \"wish\", \"work\", \"work\", \"work\", \"work\", \"work\", \"world\", \"world\", \"world\", \"world\", \"world\", \"york\", \"york\", \"york\", \"york\", \"york\"]}, \"R\": 30, \"lambda.step\": 0.01, \"plot.opts\": {\"xlab\": \"PC1\", \"ylab\": \"PC2\"}, \"topic.order\": [5, 3, 2, 4, 1]};\n",
              "\n",
              "function LDAvis_load_lib(url, callback){\n",
              "  var s = document.createElement('script');\n",
              "  s.src = url;\n",
              "  s.async = true;\n",
              "  s.onreadystatechange = s.onload = callback;\n",
              "  s.onerror = function(){console.warn(\"failed to load library \" + url);};\n",
              "  document.getElementsByTagName(\"head\")[0].appendChild(s);\n",
              "}\n",
              "\n",
              "if(typeof(LDAvis) !== \"undefined\"){\n",
              "   // already loaded: just create the visualization\n",
              "   !function(LDAvis){\n",
              "       new LDAvis(\"#\" + \"ldavis_el27531406739341216009290786181\", ldavis_el27531406739341216009290786181_data);\n",
              "   }(LDAvis);\n",
              "}else if(typeof define === \"function\" && define.amd){\n",
              "   // require.js is available: use it to load d3/LDAvis\n",
              "   require.config({paths: {d3: \"https://d3js.org/d3.v5\"}});\n",
              "   require([\"d3\"], function(d3){\n",
              "      window.d3 = d3;\n",
              "      LDAvis_load_lib(\"https://cdn.jsdelivr.net/gh/bmabey/pyLDAvis@3.4.0/pyLDAvis/js/ldavis.v3.0.0.js\", function(){\n",
              "        new LDAvis(\"#\" + \"ldavis_el27531406739341216009290786181\", ldavis_el27531406739341216009290786181_data);\n",
              "      });\n",
              "    });\n",
              "}else{\n",
              "    // require.js not available: dynamically load d3 & LDAvis\n",
              "    LDAvis_load_lib(\"https://d3js.org/d3.v5.js\", function(){\n",
              "         LDAvis_load_lib(\"https://cdn.jsdelivr.net/gh/bmabey/pyLDAvis@3.4.0/pyLDAvis/js/ldavis.v3.0.0.js\", function(){\n",
              "                 new LDAvis(\"#\" + \"ldavis_el27531406739341216009290786181\", ldavis_el27531406739341216009290786181_data);\n",
              "            })\n",
              "         });\n",
              "}\n",
              "</script>"
            ],
            "text/plain": [
              "<IPython.core.display.HTML object>"
            ]
          },
          "execution_count": 20,
          "metadata": {},
          "output_type": "execute_result"
        }
      ],
      "source": [
        "# Convert count vectors to Gensim corpus\n",
        "corpus = gensim.matutils.Sparse2Corpus(count_text_vectors.T)\n",
        "\n",
        "# Create Gensim dictionary\n",
        "id2word = dict((v, k) for k, v in count_text_vectorizer.vocabulary_.items())\n",
        "dictionary = gensim.corpora.Dictionary.from_corpus(corpus, id2word=id2word)\n",
        "\n",
        "# Fit LDA model\n",
        "lda_model = gensim.models.LdaModel(corpus=corpus, id2word=dictionary, num_topics=5, random_state=314)\n",
        "\n",
        "# Visualize LDA results\n",
        "pyLDAvis.display(gensimvis.prepare(lda_model, corpus, dictionary=dictionary))\n"
      ]
    },
    {
      "cell_type": "code",
      "execution_count": 21,
      "id": "ab18adf5",
      "metadata": {
        "colab": {
          "base_uri": "https://localhost:8080/",
          "height": 0
        },
        "id": "ab18adf5",
        "outputId": "2e406c6c-9587-4406-8aa7-55b1f76aec3e"
      },
      "outputs": [
        {
          "name": "stdout",
          "output_type": "stream",
          "text": [
            "Topic 1:\n",
            "said, mrs, state, mr, 000, way, good, man, home, small\n",
            "\n",
            "Topic 2:\n",
            "said, state, program, day, mr, way, world, mrs, people, home\n",
            "\n",
            "Topic 3:\n",
            "said, mr, man, old, state, president, day, board, good, great\n",
            "\n",
            "Topic 4:\n",
            "said, mr, president, state, work, 000, good, old, states, mrs\n",
            "\n",
            "Topic 5:\n",
            "said, state, states, united, government, good, day, use, work, man\n",
            "\n"
          ]
        },
        {
          "name": "stderr",
          "output_type": "stream",
          "text": [
            "/usr/local/lib/python3.10/dist-packages/ipykernel/ipkernel.py:283: DeprecationWarning: `should_run_async` will not call `transform_cell` automatically in the future. Please pass the result to `transformed_cell` argument and any exception that happen during thetransform in `preprocessing_exc_tuple` in IPython 7.17 and above.\n",
            "  and should_run_async(code)\n"
          ]
        }
      ],
      "source": [
        "def display_topics(lda_model, feature_names, num_terms=10):\n",
        "    for topic_idx, topic in enumerate(lda_model.get_topics()):\n",
        "        print(f\"Topic {topic_idx + 1}:\")\n",
        "        topic_terms = [feature_names[i] for i in topic.argsort()[:-num_terms - 1:-1]]\n",
        "        print(\", \".join(topic_terms))\n",
        "        print()\n",
        "\n",
        "display_topics(lda_model, count_text_vectorizer.get_feature_names_out())\n"
      ]
    },
    {
      "attachments": {},
      "cell_type": "markdown",
      "id": "f2c67876",
      "metadata": {
        "id": "f2c67876"
      },
      "source": [
        "Q: What inference do you draw from the displayed topics for your LDA model?\n",
        "\n",
        "A: From the displayed topics for my LDA model I can infer that it does a relatively good job of capturing the differences and similarities between topics in the brown categories.\n",
        "\n",
        "Q: Repeat the tallying of Brown categories within your topics. How does your five-topic LDA model compare to the original Brown categories?\n",
        "\n",
        "A: Similar to the other models, the LDA model does a relatively good job of capturing the topics in the brown corpus.\n"
      ]
    },
    {
      "attachments": {},
      "cell_type": "markdown",
      "id": "a3d14c87",
      "metadata": {
        "id": "a3d14c87"
      },
      "source": [
        "Q: What conclusions do you draw from the visualization above? Please address the principal component scatterplot and the salient terms graph.\n",
        "\n",
        "A: The scatterplot shows the similaries and prominance of the different topics in the LDA model. We can see from this that topics 3 and 5 are similar, and that topic 1 is the most prevalent.\n"
      ]
    }
  ],
  "metadata": {
    "colab": {
      "provenance": []
    },
    "kernelspec": {
      "display_name": "Python 3 (ipykernel)",
      "language": "python",
      "name": "python3"
    },
    "language_info": {
      "codemirror_mode": {
        "name": "ipython",
        "version": 3
      },
      "file_extension": ".py",
      "mimetype": "text/x-python",
      "name": "python",
      "nbconvert_exporter": "python",
      "pygments_lexer": "ipython3",
      "version": "3.9.16"
    }
  },
  "nbformat": 4,
  "nbformat_minor": 5
}
